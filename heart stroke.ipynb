{
  "cells": [
    {
      "cell_type": "code",
      "execution_count": 2,
      "metadata": {
        "id": "4DyB81sTqyyZ"
      },
      "outputs": [],
      "source": [
        "#importing necessary libraries\n",
        "import pandas as pd\n",
        "import numpy as np"
      ]
    },
    {
      "cell_type": "code",
      "execution_count": 3,
      "metadata": {
        "colab": {
          "base_uri": "https://localhost:8080/",
          "height": 427
        },
        "id": "h726FfgurBCd",
        "outputId": "57dc5def-c245-4b6e-b45b-95ed4c0251f2"
      },
      "outputs": [
        {
          "data": {
            "text/html": [
              "<div>\n",
              "<style scoped>\n",
              "    .dataframe tbody tr th:only-of-type {\n",
              "        vertical-align: middle;\n",
              "    }\n",
              "\n",
              "    .dataframe tbody tr th {\n",
              "        vertical-align: top;\n",
              "    }\n",
              "\n",
              "    .dataframe thead th {\n",
              "        text-align: right;\n",
              "    }\n",
              "</style>\n",
              "<table border=\"1\" class=\"dataframe\">\n",
              "  <thead>\n",
              "    <tr style=\"text-align: right;\">\n",
              "      <th></th>\n",
              "      <th>id</th>\n",
              "      <th>gender</th>\n",
              "      <th>age</th>\n",
              "      <th>hypertension</th>\n",
              "      <th>heart_disease</th>\n",
              "      <th>ever_married</th>\n",
              "      <th>work_type</th>\n",
              "      <th>Residence_type</th>\n",
              "      <th>avg_glucose_level</th>\n",
              "      <th>bmi</th>\n",
              "      <th>smoking_status</th>\n",
              "      <th>stroke</th>\n",
              "    </tr>\n",
              "  </thead>\n",
              "  <tbody>\n",
              "    <tr>\n",
              "      <th>0</th>\n",
              "      <td>30669</td>\n",
              "      <td>Male</td>\n",
              "      <td>3.0</td>\n",
              "      <td>0</td>\n",
              "      <td>0</td>\n",
              "      <td>No</td>\n",
              "      <td>children</td>\n",
              "      <td>Rural</td>\n",
              "      <td>95.12</td>\n",
              "      <td>18.0</td>\n",
              "      <td>NaN</td>\n",
              "      <td>0</td>\n",
              "    </tr>\n",
              "    <tr>\n",
              "      <th>1</th>\n",
              "      <td>30468</td>\n",
              "      <td>Male</td>\n",
              "      <td>58.0</td>\n",
              "      <td>1</td>\n",
              "      <td>0</td>\n",
              "      <td>Yes</td>\n",
              "      <td>Private</td>\n",
              "      <td>Urban</td>\n",
              "      <td>87.96</td>\n",
              "      <td>39.2</td>\n",
              "      <td>never smoked</td>\n",
              "      <td>0</td>\n",
              "    </tr>\n",
              "    <tr>\n",
              "      <th>2</th>\n",
              "      <td>16523</td>\n",
              "      <td>Female</td>\n",
              "      <td>8.0</td>\n",
              "      <td>0</td>\n",
              "      <td>0</td>\n",
              "      <td>No</td>\n",
              "      <td>Private</td>\n",
              "      <td>Urban</td>\n",
              "      <td>110.89</td>\n",
              "      <td>17.6</td>\n",
              "      <td>NaN</td>\n",
              "      <td>0</td>\n",
              "    </tr>\n",
              "    <tr>\n",
              "      <th>3</th>\n",
              "      <td>56543</td>\n",
              "      <td>Female</td>\n",
              "      <td>70.0</td>\n",
              "      <td>0</td>\n",
              "      <td>0</td>\n",
              "      <td>Yes</td>\n",
              "      <td>Private</td>\n",
              "      <td>Rural</td>\n",
              "      <td>69.04</td>\n",
              "      <td>35.9</td>\n",
              "      <td>formerly smoked</td>\n",
              "      <td>0</td>\n",
              "    </tr>\n",
              "    <tr>\n",
              "      <th>4</th>\n",
              "      <td>46136</td>\n",
              "      <td>Male</td>\n",
              "      <td>14.0</td>\n",
              "      <td>0</td>\n",
              "      <td>0</td>\n",
              "      <td>No</td>\n",
              "      <td>Never_worked</td>\n",
              "      <td>Rural</td>\n",
              "      <td>161.28</td>\n",
              "      <td>19.1</td>\n",
              "      <td>NaN</td>\n",
              "      <td>0</td>\n",
              "    </tr>\n",
              "    <tr>\n",
              "      <th>5</th>\n",
              "      <td>32257</td>\n",
              "      <td>Female</td>\n",
              "      <td>47.0</td>\n",
              "      <td>0</td>\n",
              "      <td>0</td>\n",
              "      <td>Yes</td>\n",
              "      <td>Private</td>\n",
              "      <td>Urban</td>\n",
              "      <td>210.95</td>\n",
              "      <td>50.1</td>\n",
              "      <td>NaN</td>\n",
              "      <td>0</td>\n",
              "    </tr>\n",
              "    <tr>\n",
              "      <th>6</th>\n",
              "      <td>52800</td>\n",
              "      <td>Female</td>\n",
              "      <td>52.0</td>\n",
              "      <td>0</td>\n",
              "      <td>0</td>\n",
              "      <td>Yes</td>\n",
              "      <td>Private</td>\n",
              "      <td>Urban</td>\n",
              "      <td>77.59</td>\n",
              "      <td>17.7</td>\n",
              "      <td>formerly smoked</td>\n",
              "      <td>0</td>\n",
              "    </tr>\n",
              "    <tr>\n",
              "      <th>7</th>\n",
              "      <td>41413</td>\n",
              "      <td>Female</td>\n",
              "      <td>75.0</td>\n",
              "      <td>0</td>\n",
              "      <td>1</td>\n",
              "      <td>Yes</td>\n",
              "      <td>Self-employed</td>\n",
              "      <td>Rural</td>\n",
              "      <td>243.53</td>\n",
              "      <td>27.0</td>\n",
              "      <td>never smoked</td>\n",
              "      <td>0</td>\n",
              "    </tr>\n",
              "    <tr>\n",
              "      <th>8</th>\n",
              "      <td>15266</td>\n",
              "      <td>Female</td>\n",
              "      <td>32.0</td>\n",
              "      <td>0</td>\n",
              "      <td>0</td>\n",
              "      <td>Yes</td>\n",
              "      <td>Private</td>\n",
              "      <td>Rural</td>\n",
              "      <td>77.67</td>\n",
              "      <td>32.3</td>\n",
              "      <td>smokes</td>\n",
              "      <td>0</td>\n",
              "    </tr>\n",
              "    <tr>\n",
              "      <th>9</th>\n",
              "      <td>28674</td>\n",
              "      <td>Female</td>\n",
              "      <td>74.0</td>\n",
              "      <td>1</td>\n",
              "      <td>0</td>\n",
              "      <td>Yes</td>\n",
              "      <td>Self-employed</td>\n",
              "      <td>Urban</td>\n",
              "      <td>205.84</td>\n",
              "      <td>54.6</td>\n",
              "      <td>never smoked</td>\n",
              "      <td>0</td>\n",
              "    </tr>\n",
              "  </tbody>\n",
              "</table>\n",
              "</div>"
            ],
            "text/plain": [
              "      id  gender   age  hypertension  heart_disease ever_married  \\\n",
              "0  30669    Male   3.0             0              0           No   \n",
              "1  30468    Male  58.0             1              0          Yes   \n",
              "2  16523  Female   8.0             0              0           No   \n",
              "3  56543  Female  70.0             0              0          Yes   \n",
              "4  46136    Male  14.0             0              0           No   \n",
              "5  32257  Female  47.0             0              0          Yes   \n",
              "6  52800  Female  52.0             0              0          Yes   \n",
              "7  41413  Female  75.0             0              1          Yes   \n",
              "8  15266  Female  32.0             0              0          Yes   \n",
              "9  28674  Female  74.0             1              0          Yes   \n",
              "\n",
              "       work_type Residence_type  avg_glucose_level   bmi   smoking_status  \\\n",
              "0       children          Rural              95.12  18.0              NaN   \n",
              "1        Private          Urban              87.96  39.2     never smoked   \n",
              "2        Private          Urban             110.89  17.6              NaN   \n",
              "3        Private          Rural              69.04  35.9  formerly smoked   \n",
              "4   Never_worked          Rural             161.28  19.1              NaN   \n",
              "5        Private          Urban             210.95  50.1              NaN   \n",
              "6        Private          Urban              77.59  17.7  formerly smoked   \n",
              "7  Self-employed          Rural             243.53  27.0     never smoked   \n",
              "8        Private          Rural              77.67  32.3           smokes   \n",
              "9  Self-employed          Urban             205.84  54.6     never smoked   \n",
              "\n",
              "   stroke  \n",
              "0       0  \n",
              "1       0  \n",
              "2       0  \n",
              "3       0  \n",
              "4       0  \n",
              "5       0  \n",
              "6       0  \n",
              "7       0  \n",
              "8       0  \n",
              "9       0  "
            ]
          },
          "execution_count": 3,
          "metadata": {},
          "output_type": "execute_result"
        }
      ],
      "source": [
        "stroke = pd.read_csv('Heart_Strokes.csv')\n",
        "stroke.head(10)"
      ]
    },
    {
      "cell_type": "code",
      "execution_count": 4,
      "metadata": {
        "colab": {
          "base_uri": "https://localhost:8080/"
        },
        "id": "G-5lwjYZpWm3",
        "outputId": "cc88bc60-8420-4e1a-bf72-9dd6211d8607"
      },
      "outputs": [
        {
          "data": {
            "text/plain": [
              "stroke\n",
              "0    42617\n",
              "1      783\n",
              "Name: count, dtype: int64"
            ]
          },
          "execution_count": 4,
          "metadata": {},
          "output_type": "execute_result"
        }
      ],
      "source": [
        "stroke['stroke'].value_counts()"
      ]
    },
    {
      "cell_type": "code",
      "execution_count": 7,
      "metadata": {
        "colab": {
          "base_uri": "https://localhost:8080/",
          "height": 312
        },
        "id": "YwBkyNVkpH8x",
        "outputId": "b04bcd32-b665-43bc-ff1b-98a53c2dbc53"
      },
      "outputs": [
        {
          "data": {
            "text/plain": [
              "<matplotlib.legend.Legend at 0x138a5a95780>"
            ]
          },
          "execution_count": 7,
          "metadata": {},
          "output_type": "execute_result"
        },
        {
          "data": {
            "image/png": "[encoded data removed]",
            "text/plain": [
              "<Figure size 640x480 with 1 Axes>"
            ]
          },
          "metadata": {},
          "output_type": "display_data"
        }
      ],
      "source": [
        "strokeStatus=dict(stroke['stroke'].value_counts())\n",
        "import matplotlib.pyplot as plt\n",
        "models=list(strokeStatus.keys())\n",
        "xpos=np.arange(len(models))\n",
        "plt.xticks(xpos,models)\n",
        "plt.title('Stroke Status')\n",
        "plt.ylabel('No of instances')\n",
        "plt.xlabel('Stroke/No Stroke')\n",
        "plt.bar(xpos,list(strokeStatus.values()),width=0.4,color='orange',label='No of instances')\n",
        "plt.legend()"
      ]
    },
    {
      "cell_type": "code",
      "execution_count": 8,
      "metadata": {
        "colab": {
          "base_uri": "https://localhost:8080/"
        },
        "id": "pVNePz6ErJd7",
        "outputId": "140057e3-3ec0-4b31-c6dd-eb2da1b50ac1"
      },
      "outputs": [
        {
          "data": {
            "text/plain": [
              "(43400, 12)"
            ]
          },
          "execution_count": 8,
          "metadata": {},
          "output_type": "execute_result"
        }
      ],
      "source": [
        "stroke.shape"
      ]
    },
    {
      "cell_type": "code",
      "execution_count": 9,
      "metadata": {
        "colab": {
          "base_uri": "https://localhost:8080/"
        },
        "id": "rK_Y9iEfrJzi",
        "outputId": "f7f20dff-8e76-4079-f1d6-5b749c0f0485"
      },
      "outputs": [
        {
          "data": {
            "text/plain": [
              "id                       0\n",
              "gender                   0\n",
              "age                      0\n",
              "hypertension             0\n",
              "heart_disease            0\n",
              "ever_married             0\n",
              "work_type                0\n",
              "Residence_type           0\n",
              "avg_glucose_level        0\n",
              "bmi                   1462\n",
              "smoking_status       13292\n",
              "stroke                   0\n",
              "dtype: int64"
            ]
          },
          "execution_count": 9,
          "metadata": {},
          "output_type": "execute_result"
        }
      ],
      "source": [
        "stroke.isnull().sum()"
      ]
    },
    {
      "cell_type": "code",
      "execution_count": 10,
      "metadata": {
        "colab": {
          "base_uri": "https://localhost:8080/"
        },
        "id": "husbRJiYrJ6B",
        "outputId": "07ef2f62-51e8-4c41-adc6-cf926bc3d396"
      },
      "outputs": [
        {
          "data": {
            "text/plain": [
              "array([nan, 'never smoked', 'formerly smoked', 'smokes'], dtype=object)"
            ]
          },
          "execution_count": 10,
          "metadata": {},
          "output_type": "execute_result"
        }
      ],
      "source": [
        "stroke['smoking_status'].unique()"
      ]
    },
    {
      "cell_type": "code",
      "execution_count": 11,
      "metadata": {
        "id": "ikpwVvfgrJ9E"
      },
      "outputs": [],
      "source": [
        "stroke['smoking_status'] = stroke['smoking_status'].fillna('No_Info')"
      ]
    },
    {
      "cell_type": "code",
      "execution_count": 12,
      "metadata": {
        "colab": {
          "base_uri": "https://localhost:8080/",
          "height": 427
        },
        "id": "NGghB_mlrJ_p",
        "outputId": "689d2128-27c4-464f-bff5-660c0821551e"
      },
      "outputs": [
        {
          "data": {
            "text/html": [
              "<div>\n",
              "<style scoped>\n",
              "    .dataframe tbody tr th:only-of-type {\n",
              "        vertical-align: middle;\n",
              "    }\n",
              "\n",
              "    .dataframe tbody tr th {\n",
              "        vertical-align: top;\n",
              "    }\n",
              "\n",
              "    .dataframe thead th {\n",
              "        text-align: right;\n",
              "    }\n",
              "</style>\n",
              "<table border=\"1\" class=\"dataframe\">\n",
              "  <thead>\n",
              "    <tr style=\"text-align: right;\">\n",
              "      <th></th>\n",
              "      <th>id</th>\n",
              "      <th>gender</th>\n",
              "      <th>age</th>\n",
              "      <th>hypertension</th>\n",
              "      <th>heart_disease</th>\n",
              "      <th>ever_married</th>\n",
              "      <th>work_type</th>\n",
              "      <th>Residence_type</th>\n",
              "      <th>avg_glucose_level</th>\n",
              "      <th>bmi</th>\n",
              "      <th>smoking_status</th>\n",
              "      <th>stroke</th>\n",
              "    </tr>\n",
              "  </thead>\n",
              "  <tbody>\n",
              "    <tr>\n",
              "      <th>0</th>\n",
              "      <td>30669</td>\n",
              "      <td>Male</td>\n",
              "      <td>3.0</td>\n",
              "      <td>0</td>\n",
              "      <td>0</td>\n",
              "      <td>No</td>\n",
              "      <td>children</td>\n",
              "      <td>Rural</td>\n",
              "      <td>95.12</td>\n",
              "      <td>18.0</td>\n",
              "      <td>No_Info</td>\n",
              "      <td>0</td>\n",
              "    </tr>\n",
              "    <tr>\n",
              "      <th>1</th>\n",
              "      <td>30468</td>\n",
              "      <td>Male</td>\n",
              "      <td>58.0</td>\n",
              "      <td>1</td>\n",
              "      <td>0</td>\n",
              "      <td>Yes</td>\n",
              "      <td>Private</td>\n",
              "      <td>Urban</td>\n",
              "      <td>87.96</td>\n",
              "      <td>39.2</td>\n",
              "      <td>never smoked</td>\n",
              "      <td>0</td>\n",
              "    </tr>\n",
              "    <tr>\n",
              "      <th>2</th>\n",
              "      <td>16523</td>\n",
              "      <td>Female</td>\n",
              "      <td>8.0</td>\n",
              "      <td>0</td>\n",
              "      <td>0</td>\n",
              "      <td>No</td>\n",
              "      <td>Private</td>\n",
              "      <td>Urban</td>\n",
              "      <td>110.89</td>\n",
              "      <td>17.6</td>\n",
              "      <td>No_Info</td>\n",
              "      <td>0</td>\n",
              "    </tr>\n",
              "    <tr>\n",
              "      <th>3</th>\n",
              "      <td>56543</td>\n",
              "      <td>Female</td>\n",
              "      <td>70.0</td>\n",
              "      <td>0</td>\n",
              "      <td>0</td>\n",
              "      <td>Yes</td>\n",
              "      <td>Private</td>\n",
              "      <td>Rural</td>\n",
              "      <td>69.04</td>\n",
              "      <td>35.9</td>\n",
              "      <td>formerly smoked</td>\n",
              "      <td>0</td>\n",
              "    </tr>\n",
              "    <tr>\n",
              "      <th>4</th>\n",
              "      <td>46136</td>\n",
              "      <td>Male</td>\n",
              "      <td>14.0</td>\n",
              "      <td>0</td>\n",
              "      <td>0</td>\n",
              "      <td>No</td>\n",
              "      <td>Never_worked</td>\n",
              "      <td>Rural</td>\n",
              "      <td>161.28</td>\n",
              "      <td>19.1</td>\n",
              "      <td>No_Info</td>\n",
              "      <td>0</td>\n",
              "    </tr>\n",
              "    <tr>\n",
              "      <th>5</th>\n",
              "      <td>32257</td>\n",
              "      <td>Female</td>\n",
              "      <td>47.0</td>\n",
              "      <td>0</td>\n",
              "      <td>0</td>\n",
              "      <td>Yes</td>\n",
              "      <td>Private</td>\n",
              "      <td>Urban</td>\n",
              "      <td>210.95</td>\n",
              "      <td>50.1</td>\n",
              "      <td>No_Info</td>\n",
              "      <td>0</td>\n",
              "    </tr>\n",
              "    <tr>\n",
              "      <th>6</th>\n",
              "      <td>52800</td>\n",
              "      <td>Female</td>\n",
              "      <td>52.0</td>\n",
              "      <td>0</td>\n",
              "      <td>0</td>\n",
              "      <td>Yes</td>\n",
              "      <td>Private</td>\n",
              "      <td>Urban</td>\n",
              "      <td>77.59</td>\n",
              "      <td>17.7</td>\n",
              "      <td>formerly smoked</td>\n",
              "      <td>0</td>\n",
              "    </tr>\n",
              "    <tr>\n",
              "      <th>7</th>\n",
              "      <td>41413</td>\n",
              "      <td>Female</td>\n",
              "      <td>75.0</td>\n",
              "      <td>0</td>\n",
              "      <td>1</td>\n",
              "      <td>Yes</td>\n",
              "      <td>Self-employed</td>\n",
              "      <td>Rural</td>\n",
              "      <td>243.53</td>\n",
              "      <td>27.0</td>\n",
              "      <td>never smoked</td>\n",
              "      <td>0</td>\n",
              "    </tr>\n",
              "    <tr>\n",
              "      <th>8</th>\n",
              "      <td>15266</td>\n",
              "      <td>Female</td>\n",
              "      <td>32.0</td>\n",
              "      <td>0</td>\n",
              "      <td>0</td>\n",
              "      <td>Yes</td>\n",
              "      <td>Private</td>\n",
              "      <td>Rural</td>\n",
              "      <td>77.67</td>\n",
              "      <td>32.3</td>\n",
              "      <td>smokes</td>\n",
              "      <td>0</td>\n",
              "    </tr>\n",
              "    <tr>\n",
              "      <th>9</th>\n",
              "      <td>28674</td>\n",
              "      <td>Female</td>\n",
              "      <td>74.0</td>\n",
              "      <td>1</td>\n",
              "      <td>0</td>\n",
              "      <td>Yes</td>\n",
              "      <td>Self-employed</td>\n",
              "      <td>Urban</td>\n",
              "      <td>205.84</td>\n",
              "      <td>54.6</td>\n",
              "      <td>never smoked</td>\n",
              "      <td>0</td>\n",
              "    </tr>\n",
              "  </tbody>\n",
              "</table>\n",
              "</div>"
            ],
            "text/plain": [
              "      id  gender   age  hypertension  heart_disease ever_married   \n",
              "0  30669    Male   3.0             0              0           No  \\\n",
              "1  30468    Male  58.0             1              0          Yes   \n",
              "2  16523  Female   8.0             0              0           No   \n",
              "3  56543  Female  70.0             0              0          Yes   \n",
              "4  46136    Male  14.0             0              0           No   \n",
              "5  32257  Female  47.0             0              0          Yes   \n",
              "6  52800  Female  52.0             0              0          Yes   \n",
              "7  41413  Female  75.0             0              1          Yes   \n",
              "8  15266  Female  32.0             0              0          Yes   \n",
              "9  28674  Female  74.0             1              0          Yes   \n",
              "\n",
              "       work_type Residence_type  avg_glucose_level   bmi   smoking_status   \n",
              "0       children          Rural              95.12  18.0          No_Info  \\\n",
              "1        Private          Urban              87.96  39.2     never smoked   \n",
              "2        Private          Urban             110.89  17.6          No_Info   \n",
              "3        Private          Rural              69.04  35.9  formerly smoked   \n",
              "4   Never_worked          Rural             161.28  19.1          No_Info   \n",
              "5        Private          Urban             210.95  50.1          No_Info   \n",
              "6        Private          Urban              77.59  17.7  formerly smoked   \n",
              "7  Self-employed          Rural             243.53  27.0     never smoked   \n",
              "8        Private          Rural              77.67  32.3           smokes   \n",
              "9  Self-employed          Urban             205.84  54.6     never smoked   \n",
              "\n",
              "   stroke  \n",
              "0       0  \n",
              "1       0  \n",
              "2       0  \n",
              "3       0  \n",
              "4       0  \n",
              "5       0  \n",
              "6       0  \n",
              "7       0  \n",
              "8       0  \n",
              "9       0  "
            ]
          },
          "execution_count": 12,
          "metadata": {},
          "output_type": "execute_result"
        }
      ],
      "source": [
        "stroke.head(10)"
      ]
    },
    {
      "cell_type": "code",
      "execution_count": 13,
      "metadata": {
        "colab": {
          "base_uri": "https://localhost:8080/"
        },
        "id": "P6foU8U9ribh",
        "outputId": "0b731acc-0a20-4da3-dabf-ef4215bf059e"
      },
      "outputs": [
        {
          "data": {
            "text/plain": [
              "(43400, 11)"
            ]
          },
          "execution_count": 13,
          "metadata": {},
          "output_type": "execute_result"
        }
      ],
      "source": [
        "stroke = stroke.drop(['id'], axis = 1)\n",
        "stroke.shape"
      ]
    },
    {
      "cell_type": "code",
      "execution_count": 14,
      "metadata": {
        "id": "ShCzCetzrjPa"
      },
      "outputs": [],
      "source": [
        "stroke['bmi'] = stroke['bmi'].fillna('0')"
      ]
    },
    {
      "cell_type": "code",
      "execution_count": 15,
      "metadata": {
        "colab": {
          "base_uri": "https://localhost:8080/"
        },
        "id": "gi9nGBGpr6by",
        "outputId": "ec07fc34-c83d-489e-95eb-e29b1d5a430f"
      },
      "outputs": [
        {
          "name": "stdout",
          "output_type": "stream",
          "text": [
            "28.605038390004545\n"
          ]
        }
      ],
      "source": [
        "avg = 0\n",
        "c = 0\n",
        "for i in range(43400):\n",
        "  if stroke.bmi[i] != '0':\n",
        "    avg += stroke.bmi[i]\n",
        "    c += 1\n",
        "avg = avg/c\n",
        "print(avg)"
      ]
    },
    {
      "cell_type": "code",
      "execution_count": 16,
      "metadata": {
        "id": "RSf4mFivsQoe"
      },
      "outputs": [],
      "source": [
        "stroke['bmi'] = stroke['bmi'].replace({'0':28.605038390004545})"
      ]
    },
    {
      "cell_type": "code",
      "execution_count": 17,
      "metadata": {
        "colab": {
          "base_uri": "https://localhost:8080/",
          "height": 488
        },
        "id": "LnzBsBkvsdRh",
        "outputId": "9ffafce4-9ebc-4afb-b628-a4a6f0a7cabc"
      },
      "outputs": [
        {
          "data": {
            "text/html": [
              "<div>\n",
              "<style scoped>\n",
              "    .dataframe tbody tr th:only-of-type {\n",
              "        vertical-align: middle;\n",
              "    }\n",
              "\n",
              "    .dataframe tbody tr th {\n",
              "        vertical-align: top;\n",
              "    }\n",
              "\n",
              "    .dataframe thead th {\n",
              "        text-align: right;\n",
              "    }\n",
              "</style>\n",
              "<table border=\"1\" class=\"dataframe\">\n",
              "  <thead>\n",
              "    <tr style=\"text-align: right;\">\n",
              "      <th></th>\n",
              "      <th>gender</th>\n",
              "      <th>age</th>\n",
              "      <th>hypertension</th>\n",
              "      <th>heart_disease</th>\n",
              "      <th>ever_married</th>\n",
              "      <th>work_type</th>\n",
              "      <th>Residence_type</th>\n",
              "      <th>avg_glucose_level</th>\n",
              "      <th>bmi</th>\n",
              "      <th>smoking_status</th>\n",
              "      <th>stroke</th>\n",
              "    </tr>\n",
              "  </thead>\n",
              "  <tbody>\n",
              "    <tr>\n",
              "      <th>0</th>\n",
              "      <td>Male</td>\n",
              "      <td>3.0</td>\n",
              "      <td>0</td>\n",
              "      <td>0</td>\n",
              "      <td>No</td>\n",
              "      <td>children</td>\n",
              "      <td>Rural</td>\n",
              "      <td>95.12</td>\n",
              "      <td>18.000000</td>\n",
              "      <td>No_Info</td>\n",
              "      <td>0</td>\n",
              "    </tr>\n",
              "    <tr>\n",
              "      <th>1</th>\n",
              "      <td>Male</td>\n",
              "      <td>58.0</td>\n",
              "      <td>1</td>\n",
              "      <td>0</td>\n",
              "      <td>Yes</td>\n",
              "      <td>Private</td>\n",
              "      <td>Urban</td>\n",
              "      <td>87.96</td>\n",
              "      <td>39.200000</td>\n",
              "      <td>never smoked</td>\n",
              "      <td>0</td>\n",
              "    </tr>\n",
              "    <tr>\n",
              "      <th>2</th>\n",
              "      <td>Female</td>\n",
              "      <td>8.0</td>\n",
              "      <td>0</td>\n",
              "      <td>0</td>\n",
              "      <td>No</td>\n",
              "      <td>Private</td>\n",
              "      <td>Urban</td>\n",
              "      <td>110.89</td>\n",
              "      <td>17.600000</td>\n",
              "      <td>No_Info</td>\n",
              "      <td>0</td>\n",
              "    </tr>\n",
              "    <tr>\n",
              "      <th>3</th>\n",
              "      <td>Female</td>\n",
              "      <td>70.0</td>\n",
              "      <td>0</td>\n",
              "      <td>0</td>\n",
              "      <td>Yes</td>\n",
              "      <td>Private</td>\n",
              "      <td>Rural</td>\n",
              "      <td>69.04</td>\n",
              "      <td>35.900000</td>\n",
              "      <td>formerly smoked</td>\n",
              "      <td>0</td>\n",
              "    </tr>\n",
              "    <tr>\n",
              "      <th>4</th>\n",
              "      <td>Male</td>\n",
              "      <td>14.0</td>\n",
              "      <td>0</td>\n",
              "      <td>0</td>\n",
              "      <td>No</td>\n",
              "      <td>Never_worked</td>\n",
              "      <td>Rural</td>\n",
              "      <td>161.28</td>\n",
              "      <td>19.100000</td>\n",
              "      <td>No_Info</td>\n",
              "      <td>0</td>\n",
              "    </tr>\n",
              "    <tr>\n",
              "      <th>...</th>\n",
              "      <td>...</td>\n",
              "      <td>...</td>\n",
              "      <td>...</td>\n",
              "      <td>...</td>\n",
              "      <td>...</td>\n",
              "      <td>...</td>\n",
              "      <td>...</td>\n",
              "      <td>...</td>\n",
              "      <td>...</td>\n",
              "      <td>...</td>\n",
              "      <td>...</td>\n",
              "    </tr>\n",
              "    <tr>\n",
              "      <th>95</th>\n",
              "      <td>Male</td>\n",
              "      <td>34.0</td>\n",
              "      <td>0</td>\n",
              "      <td>1</td>\n",
              "      <td>Yes</td>\n",
              "      <td>Private</td>\n",
              "      <td>Urban</td>\n",
              "      <td>106.23</td>\n",
              "      <td>28.605038</td>\n",
              "      <td>formerly smoked</td>\n",
              "      <td>0</td>\n",
              "    </tr>\n",
              "    <tr>\n",
              "      <th>96</th>\n",
              "      <td>Male</td>\n",
              "      <td>64.0</td>\n",
              "      <td>0</td>\n",
              "      <td>0</td>\n",
              "      <td>Yes</td>\n",
              "      <td>Govt_job</td>\n",
              "      <td>Urban</td>\n",
              "      <td>239.64</td>\n",
              "      <td>34.600000</td>\n",
              "      <td>formerly smoked</td>\n",
              "      <td>0</td>\n",
              "    </tr>\n",
              "    <tr>\n",
              "      <th>97</th>\n",
              "      <td>Female</td>\n",
              "      <td>66.0</td>\n",
              "      <td>0</td>\n",
              "      <td>0</td>\n",
              "      <td>Yes</td>\n",
              "      <td>Self-employed</td>\n",
              "      <td>Urban</td>\n",
              "      <td>58.95</td>\n",
              "      <td>24.600000</td>\n",
              "      <td>never smoked</td>\n",
              "      <td>0</td>\n",
              "    </tr>\n",
              "    <tr>\n",
              "      <th>98</th>\n",
              "      <td>Female</td>\n",
              "      <td>23.0</td>\n",
              "      <td>0</td>\n",
              "      <td>0</td>\n",
              "      <td>No</td>\n",
              "      <td>Private</td>\n",
              "      <td>Urban</td>\n",
              "      <td>99.92</td>\n",
              "      <td>25.800000</td>\n",
              "      <td>never smoked</td>\n",
              "      <td>0</td>\n",
              "    </tr>\n",
              "    <tr>\n",
              "      <th>99</th>\n",
              "      <td>Male</td>\n",
              "      <td>68.0</td>\n",
              "      <td>0</td>\n",
              "      <td>0</td>\n",
              "      <td>Yes</td>\n",
              "      <td>Private</td>\n",
              "      <td>Rural</td>\n",
              "      <td>116.23</td>\n",
              "      <td>26.100000</td>\n",
              "      <td>never smoked</td>\n",
              "      <td>0</td>\n",
              "    </tr>\n",
              "  </tbody>\n",
              "</table>\n",
              "<p>100 rows × 11 columns</p>\n",
              "</div>"
            ],
            "text/plain": [
              "    gender   age  hypertension  heart_disease ever_married      work_type   \n",
              "0     Male   3.0             0              0           No       children  \\\n",
              "1     Male  58.0             1              0          Yes        Private   \n",
              "2   Female   8.0             0              0           No        Private   \n",
              "3   Female  70.0             0              0          Yes        Private   \n",
              "4     Male  14.0             0              0           No   Never_worked   \n",
              "..     ...   ...           ...            ...          ...            ...   \n",
              "95    Male  34.0             0              1          Yes        Private   \n",
              "96    Male  64.0             0              0          Yes       Govt_job   \n",
              "97  Female  66.0             0              0          Yes  Self-employed   \n",
              "98  Female  23.0             0              0           No        Private   \n",
              "99    Male  68.0             0              0          Yes        Private   \n",
              "\n",
              "   Residence_type  avg_glucose_level        bmi   smoking_status  stroke  \n",
              "0           Rural              95.12  18.000000          No_Info       0  \n",
              "1           Urban              87.96  39.200000     never smoked       0  \n",
              "2           Urban             110.89  17.600000          No_Info       0  \n",
              "3           Rural              69.04  35.900000  formerly smoked       0  \n",
              "4           Rural             161.28  19.100000          No_Info       0  \n",
              "..            ...                ...        ...              ...     ...  \n",
              "95          Urban             106.23  28.605038  formerly smoked       0  \n",
              "96          Urban             239.64  34.600000  formerly smoked       0  \n",
              "97          Urban              58.95  24.600000     never smoked       0  \n",
              "98          Urban              99.92  25.800000     never smoked       0  \n",
              "99          Rural             116.23  26.100000     never smoked       0  \n",
              "\n",
              "[100 rows x 11 columns]"
            ]
          },
          "execution_count": 17,
          "metadata": {},
          "output_type": "execute_result"
        }
      ],
      "source": [
        "stroke.head(100)"
      ]
    },
    {
      "cell_type": "markdown",
      "metadata": {
        "id": "HRNH3ziEsndW"
      },
      "source": [
        "# Feature Engineering"
      ]
    },
    {
      "cell_type": "code",
      "execution_count": 18,
      "metadata": {
        "colab": {
          "base_uri": "https://localhost:8080/"
        },
        "id": "WBjPLRchsrHK",
        "outputId": "faac7c59-939d-4ea4-fc61-42ce3ad76b5c"
      },
      "outputs": [
        {
          "name": "stdout",
          "output_type": "stream",
          "text": [
            "<class 'pandas.core.frame.DataFrame'>\n",
            "RangeIndex: 43400 entries, 0 to 43399\n",
            "Data columns (total 11 columns):\n",
            " #   Column             Non-Null Count  Dtype  \n",
            "---  ------             --------------  -----  \n",
            " 0   gender             43400 non-null  object \n",
            " 1   age                43400 non-null  float64\n",
            " 2   hypertension       43400 non-null  int64  \n",
            " 3   heart_disease      43400 non-null  int64  \n",
            " 4   ever_married       43400 non-null  object \n",
            " 5   work_type          43400 non-null  object \n",
            " 6   Residence_type     43400 non-null  object \n",
            " 7   avg_glucose_level  43400 non-null  float64\n",
            " 8   bmi                43400 non-null  float64\n",
            " 9   smoking_status     43400 non-null  object \n",
            " 10  stroke             43400 non-null  int64  \n",
            "dtypes: float64(3), int64(3), object(5)\n",
            "memory usage: 3.6+ MB\n"
          ]
        }
      ],
      "source": [
        "stroke.info()"
      ]
    },
    {
      "cell_type": "code",
      "execution_count": 19,
      "metadata": {
        "colab": {
          "base_uri": "https://localhost:8080/"
        },
        "id": "DmFHgO9lst5Y",
        "outputId": "9aece28b-ceec-469b-b7ad-5cb913386ef9"
      },
      "outputs": [
        {
          "data": {
            "text/plain": [
              "array(['Male', 'Female', 'Other'], dtype=object)"
            ]
          },
          "execution_count": 19,
          "metadata": {},
          "output_type": "execute_result"
        }
      ],
      "source": [
        "stroke['gender'].unique()"
      ]
    },
    {
      "cell_type": "code",
      "execution_count": 20,
      "metadata": {
        "colab": {
          "base_uri": "https://localhost:8080/",
          "height": 206
        },
        "id": "yXrpoc-ys-by",
        "outputId": "5d30d7a2-804b-4b3a-ed6c-018e48a8cb2d"
      },
      "outputs": [
        {
          "data": {
            "text/html": [
              "<div>\n",
              "<style scoped>\n",
              "    .dataframe tbody tr th:only-of-type {\n",
              "        vertical-align: middle;\n",
              "    }\n",
              "\n",
              "    .dataframe tbody tr th {\n",
              "        vertical-align: top;\n",
              "    }\n",
              "\n",
              "    .dataframe thead th {\n",
              "        text-align: right;\n",
              "    }\n",
              "</style>\n",
              "<table border=\"1\" class=\"dataframe\">\n",
              "  <thead>\n",
              "    <tr style=\"text-align: right;\">\n",
              "      <th></th>\n",
              "      <th>Female</th>\n",
              "      <th>Male</th>\n",
              "      <th>Other</th>\n",
              "    </tr>\n",
              "  </thead>\n",
              "  <tbody>\n",
              "    <tr>\n",
              "      <th>0</th>\n",
              "      <td>False</td>\n",
              "      <td>True</td>\n",
              "      <td>False</td>\n",
              "    </tr>\n",
              "    <tr>\n",
              "      <th>1</th>\n",
              "      <td>False</td>\n",
              "      <td>True</td>\n",
              "      <td>False</td>\n",
              "    </tr>\n",
              "    <tr>\n",
              "      <th>2</th>\n",
              "      <td>True</td>\n",
              "      <td>False</td>\n",
              "      <td>False</td>\n",
              "    </tr>\n",
              "    <tr>\n",
              "      <th>3</th>\n",
              "      <td>True</td>\n",
              "      <td>False</td>\n",
              "      <td>False</td>\n",
              "    </tr>\n",
              "    <tr>\n",
              "      <th>4</th>\n",
              "      <td>False</td>\n",
              "      <td>True</td>\n",
              "      <td>False</td>\n",
              "    </tr>\n",
              "  </tbody>\n",
              "</table>\n",
              "</div>"
            ],
            "text/plain": [
              "   Female   Male  Other\n",
              "0   False   True  False\n",
              "1   False   True  False\n",
              "2    True  False  False\n",
              "3    True  False  False\n",
              "4   False   True  False"
            ]
          },
          "execution_count": 20,
          "metadata": {},
          "output_type": "execute_result"
        }
      ],
      "source": [
        "stroke_enc = pd.get_dummies(stroke['gender'])\n",
        "stroke_enc.head()"
      ]
    },
    {
      "cell_type": "code",
      "execution_count": 21,
      "metadata": {
        "id": "HKEkGP6mtBIK"
      },
      "outputs": [],
      "source": [
        "stroke['Male'] = stroke_enc['Male']\n",
        "stroke['Female'] = stroke_enc['Female']\n",
        "stroke['Other'] = stroke_enc['Other']"
      ]
    },
    {
      "cell_type": "code",
      "execution_count": 22,
      "metadata": {
        "colab": {
          "base_uri": "https://localhost:8080/",
          "height": 270
        },
        "id": "JygOnTZXtSSH",
        "outputId": "275889c5-7602-46bb-9462-b6d09b3f2c0d"
      },
      "outputs": [
        {
          "data": {
            "text/html": [
              "<div>\n",
              "<style scoped>\n",
              "    .dataframe tbody tr th:only-of-type {\n",
              "        vertical-align: middle;\n",
              "    }\n",
              "\n",
              "    .dataframe tbody tr th {\n",
              "        vertical-align: top;\n",
              "    }\n",
              "\n",
              "    .dataframe thead th {\n",
              "        text-align: right;\n",
              "    }\n",
              "</style>\n",
              "<table border=\"1\" class=\"dataframe\">\n",
              "  <thead>\n",
              "    <tr style=\"text-align: right;\">\n",
              "      <th></th>\n",
              "      <th>age</th>\n",
              "      <th>hypertension</th>\n",
              "      <th>heart_disease</th>\n",
              "      <th>ever_married</th>\n",
              "      <th>work_type</th>\n",
              "      <th>Residence_type</th>\n",
              "      <th>avg_glucose_level</th>\n",
              "      <th>bmi</th>\n",
              "      <th>smoking_status</th>\n",
              "      <th>stroke</th>\n",
              "      <th>Male</th>\n",
              "      <th>Female</th>\n",
              "      <th>Other</th>\n",
              "    </tr>\n",
              "  </thead>\n",
              "  <tbody>\n",
              "    <tr>\n",
              "      <th>0</th>\n",
              "      <td>3.0</td>\n",
              "      <td>0</td>\n",
              "      <td>0</td>\n",
              "      <td>No</td>\n",
              "      <td>children</td>\n",
              "      <td>Rural</td>\n",
              "      <td>95.12</td>\n",
              "      <td>18.0</td>\n",
              "      <td>No_Info</td>\n",
              "      <td>0</td>\n",
              "      <td>True</td>\n",
              "      <td>False</td>\n",
              "      <td>False</td>\n",
              "    </tr>\n",
              "    <tr>\n",
              "      <th>1</th>\n",
              "      <td>58.0</td>\n",
              "      <td>1</td>\n",
              "      <td>0</td>\n",
              "      <td>Yes</td>\n",
              "      <td>Private</td>\n",
              "      <td>Urban</td>\n",
              "      <td>87.96</td>\n",
              "      <td>39.2</td>\n",
              "      <td>never smoked</td>\n",
              "      <td>0</td>\n",
              "      <td>True</td>\n",
              "      <td>False</td>\n",
              "      <td>False</td>\n",
              "    </tr>\n",
              "    <tr>\n",
              "      <th>2</th>\n",
              "      <td>8.0</td>\n",
              "      <td>0</td>\n",
              "      <td>0</td>\n",
              "      <td>No</td>\n",
              "      <td>Private</td>\n",
              "      <td>Urban</td>\n",
              "      <td>110.89</td>\n",
              "      <td>17.6</td>\n",
              "      <td>No_Info</td>\n",
              "      <td>0</td>\n",
              "      <td>False</td>\n",
              "      <td>True</td>\n",
              "      <td>False</td>\n",
              "    </tr>\n",
              "    <tr>\n",
              "      <th>3</th>\n",
              "      <td>70.0</td>\n",
              "      <td>0</td>\n",
              "      <td>0</td>\n",
              "      <td>Yes</td>\n",
              "      <td>Private</td>\n",
              "      <td>Rural</td>\n",
              "      <td>69.04</td>\n",
              "      <td>35.9</td>\n",
              "      <td>formerly smoked</td>\n",
              "      <td>0</td>\n",
              "      <td>False</td>\n",
              "      <td>True</td>\n",
              "      <td>False</td>\n",
              "    </tr>\n",
              "    <tr>\n",
              "      <th>4</th>\n",
              "      <td>14.0</td>\n",
              "      <td>0</td>\n",
              "      <td>0</td>\n",
              "      <td>No</td>\n",
              "      <td>Never_worked</td>\n",
              "      <td>Rural</td>\n",
              "      <td>161.28</td>\n",
              "      <td>19.1</td>\n",
              "      <td>No_Info</td>\n",
              "      <td>0</td>\n",
              "      <td>True</td>\n",
              "      <td>False</td>\n",
              "      <td>False</td>\n",
              "    </tr>\n",
              "  </tbody>\n",
              "</table>\n",
              "</div>"
            ],
            "text/plain": [
              "    age  hypertension  heart_disease ever_married     work_type   \n",
              "0   3.0             0              0           No      children  \\\n",
              "1  58.0             1              0          Yes       Private   \n",
              "2   8.0             0              0           No       Private   \n",
              "3  70.0             0              0          Yes       Private   \n",
              "4  14.0             0              0           No  Never_worked   \n",
              "\n",
              "  Residence_type  avg_glucose_level   bmi   smoking_status  stroke   Male   \n",
              "0          Rural              95.12  18.0          No_Info       0   True  \\\n",
              "1          Urban              87.96  39.2     never smoked       0   True   \n",
              "2          Urban             110.89  17.6          No_Info       0  False   \n",
              "3          Rural              69.04  35.9  formerly smoked       0  False   \n",
              "4          Rural             161.28  19.1          No_Info       0   True   \n",
              "\n",
              "   Female  Other  \n",
              "0   False  False  \n",
              "1   False  False  \n",
              "2    True  False  \n",
              "3    True  False  \n",
              "4   False  False  "
            ]
          },
          "execution_count": 22,
          "metadata": {},
          "output_type": "execute_result"
        }
      ],
      "source": [
        "stroke = stroke.drop(['gender'], axis = 1)\n",
        "stroke.head()"
      ]
    },
    {
      "cell_type": "code",
      "execution_count": 23,
      "metadata": {
        "colab": {
          "base_uri": "https://localhost:8080/"
        },
        "id": "gVEjjndftf0e",
        "outputId": "3f3f32ae-8434-432a-e278-bcbcb9b98332"
      },
      "outputs": [
        {
          "data": {
            "text/plain": [
              "array(['No', 'Yes'], dtype=object)"
            ]
          },
          "execution_count": 23,
          "metadata": {},
          "output_type": "execute_result"
        }
      ],
      "source": [
        "stroke['ever_married'].unique()"
      ]
    },
    {
      "cell_type": "code",
      "execution_count": 24,
      "metadata": {
        "id": "KCJZQmILtktK"
      },
      "outputs": [],
      "source": [
        "stroke['ever_married'] = stroke['ever_married'].map({'Yes':1,'No':0})"
      ]
    },
    {
      "cell_type": "code",
      "execution_count": 25,
      "metadata": {
        "colab": {
          "base_uri": "https://localhost:8080/"
        },
        "id": "zOKc8P67tw8P",
        "outputId": "5d2f753e-b662-4ada-f112-0c2c7be2645d"
      },
      "outputs": [
        {
          "data": {
            "text/plain": [
              "array(['No_Info', 'never smoked', 'formerly smoked', 'smokes'],\n",
              "      dtype=object)"
            ]
          },
          "execution_count": 25,
          "metadata": {},
          "output_type": "execute_result"
        }
      ],
      "source": [
        "stroke['smoking_status'].unique()"
      ]
    },
    {
      "cell_type": "code",
      "execution_count": 26,
      "metadata": {
        "id": "0NaROgzItxxq"
      },
      "outputs": [],
      "source": [
        "stroke['smoking_status'] = stroke['smoking_status'].map({'smokes':3,'formerly smoked':2, 'No_Info':1.5, 'never smoked':0}) "
      ]
    },
    {
      "cell_type": "code",
      "execution_count": 27,
      "metadata": {
        "colab": {
          "base_uri": "https://localhost:8080/",
          "height": 206
        },
        "id": "sMZ_oMAVt6Kw",
        "outputId": "0954b2a3-eb5b-45fa-f71a-e4d24abedc8a"
      },
      "outputs": [
        {
          "data": {
            "text/html": [
              "<div>\n",
              "<style scoped>\n",
              "    .dataframe tbody tr th:only-of-type {\n",
              "        vertical-align: middle;\n",
              "    }\n",
              "\n",
              "    .dataframe tbody tr th {\n",
              "        vertical-align: top;\n",
              "    }\n",
              "\n",
              "    .dataframe thead th {\n",
              "        text-align: right;\n",
              "    }\n",
              "</style>\n",
              "<table border=\"1\" class=\"dataframe\">\n",
              "  <thead>\n",
              "    <tr style=\"text-align: right;\">\n",
              "      <th></th>\n",
              "      <th>Govt_job</th>\n",
              "      <th>Never_worked</th>\n",
              "      <th>Private</th>\n",
              "      <th>Self-employed</th>\n",
              "      <th>children</th>\n",
              "    </tr>\n",
              "  </thead>\n",
              "  <tbody>\n",
              "    <tr>\n",
              "      <th>0</th>\n",
              "      <td>False</td>\n",
              "      <td>False</td>\n",
              "      <td>False</td>\n",
              "      <td>False</td>\n",
              "      <td>True</td>\n",
              "    </tr>\n",
              "    <tr>\n",
              "      <th>1</th>\n",
              "      <td>False</td>\n",
              "      <td>False</td>\n",
              "      <td>True</td>\n",
              "      <td>False</td>\n",
              "      <td>False</td>\n",
              "    </tr>\n",
              "    <tr>\n",
              "      <th>2</th>\n",
              "      <td>False</td>\n",
              "      <td>False</td>\n",
              "      <td>True</td>\n",
              "      <td>False</td>\n",
              "      <td>False</td>\n",
              "    </tr>\n",
              "    <tr>\n",
              "      <th>3</th>\n",
              "      <td>False</td>\n",
              "      <td>False</td>\n",
              "      <td>True</td>\n",
              "      <td>False</td>\n",
              "      <td>False</td>\n",
              "    </tr>\n",
              "    <tr>\n",
              "      <th>4</th>\n",
              "      <td>False</td>\n",
              "      <td>True</td>\n",
              "      <td>False</td>\n",
              "      <td>False</td>\n",
              "      <td>False</td>\n",
              "    </tr>\n",
              "  </tbody>\n",
              "</table>\n",
              "</div>"
            ],
            "text/plain": [
              "   Govt_job  Never_worked  Private  Self-employed  children\n",
              "0     False         False    False          False      True\n",
              "1     False         False     True          False     False\n",
              "2     False         False     True          False     False\n",
              "3     False         False     True          False     False\n",
              "4     False          True    False          False     False"
            ]
          },
          "execution_count": 27,
          "metadata": {},
          "output_type": "execute_result"
        }
      ],
      "source": [
        "stroke_enc = pd.get_dummies(stroke['work_type'])\n",
        "stroke_enc.head()"
      ]
    },
    {
      "cell_type": "code",
      "execution_count": 28,
      "metadata": {
        "id": "ScPFnT1tt9ka"
      },
      "outputs": [],
      "source": [
        "stroke['Govt_job'] = stroke_enc['Govt_job']\n",
        "stroke['Never_worked'] = stroke_enc['Never_worked']\n",
        "stroke['Private'] = stroke_enc['Private']\n",
        "stroke['children'] = stroke_enc['children']"
      ]
    },
    {
      "cell_type": "code",
      "execution_count": 29,
      "metadata": {
        "id": "0Ddwx-wGuOJf"
      },
      "outputs": [],
      "source": [
        "stroke = stroke.drop(['work_type'], axis = 1)"
      ]
    },
    {
      "cell_type": "code",
      "execution_count": 30,
      "metadata": {
        "colab": {
          "base_uri": "https://localhost:8080/",
          "height": 206
        },
        "id": "TLKinmn9uUGn",
        "outputId": "71cfae91-bf68-4671-c8f3-5603256fac42"
      },
      "outputs": [
        {
          "data": {
            "text/html": [
              "<div>\n",
              "<style scoped>\n",
              "    .dataframe tbody tr th:only-of-type {\n",
              "        vertical-align: middle;\n",
              "    }\n",
              "\n",
              "    .dataframe tbody tr th {\n",
              "        vertical-align: top;\n",
              "    }\n",
              "\n",
              "    .dataframe thead th {\n",
              "        text-align: right;\n",
              "    }\n",
              "</style>\n",
              "<table border=\"1\" class=\"dataframe\">\n",
              "  <thead>\n",
              "    <tr style=\"text-align: right;\">\n",
              "      <th></th>\n",
              "      <th>Rural</th>\n",
              "      <th>Urban</th>\n",
              "    </tr>\n",
              "  </thead>\n",
              "  <tbody>\n",
              "    <tr>\n",
              "      <th>0</th>\n",
              "      <td>True</td>\n",
              "      <td>False</td>\n",
              "    </tr>\n",
              "    <tr>\n",
              "      <th>1</th>\n",
              "      <td>False</td>\n",
              "      <td>True</td>\n",
              "    </tr>\n",
              "    <tr>\n",
              "      <th>2</th>\n",
              "      <td>False</td>\n",
              "      <td>True</td>\n",
              "    </tr>\n",
              "    <tr>\n",
              "      <th>3</th>\n",
              "      <td>True</td>\n",
              "      <td>False</td>\n",
              "    </tr>\n",
              "    <tr>\n",
              "      <th>4</th>\n",
              "      <td>True</td>\n",
              "      <td>False</td>\n",
              "    </tr>\n",
              "  </tbody>\n",
              "</table>\n",
              "</div>"
            ],
            "text/plain": [
              "   Rural  Urban\n",
              "0   True  False\n",
              "1  False   True\n",
              "2  False   True\n",
              "3   True  False\n",
              "4   True  False"
            ]
          },
          "execution_count": 30,
          "metadata": {},
          "output_type": "execute_result"
        }
      ],
      "source": [
        "stroke_enc1 = pd.get_dummies(stroke['Residence_type'])\n",
        "stroke_enc1.head()"
      ]
    },
    {
      "cell_type": "code",
      "execution_count": 31,
      "metadata": {
        "id": "K33E62N4uU6D"
      },
      "outputs": [],
      "source": [
        "to_drop = ['Residence_type']\n",
        "\n",
        "stroke = stroke.drop(to_drop, axis=1)"
      ]
    },
    {
      "cell_type": "code",
      "execution_count": 32,
      "metadata": {
        "colab": {
          "base_uri": "https://localhost:8080/",
          "height": 270
        },
        "id": "S5tOA-2KucuL",
        "outputId": "2ee984f5-982e-4e55-dca9-a401548a49dc"
      },
      "outputs": [
        {
          "data": {
            "text/html": [
              "<div>\n",
              "<style scoped>\n",
              "    .dataframe tbody tr th:only-of-type {\n",
              "        vertical-align: middle;\n",
              "    }\n",
              "\n",
              "    .dataframe tbody tr th {\n",
              "        vertical-align: top;\n",
              "    }\n",
              "\n",
              "    .dataframe thead th {\n",
              "        text-align: right;\n",
              "    }\n",
              "</style>\n",
              "<table border=\"1\" class=\"dataframe\">\n",
              "  <thead>\n",
              "    <tr style=\"text-align: right;\">\n",
              "      <th></th>\n",
              "      <th>age</th>\n",
              "      <th>hypertension</th>\n",
              "      <th>heart_disease</th>\n",
              "      <th>ever_married</th>\n",
              "      <th>avg_glucose_level</th>\n",
              "      <th>bmi</th>\n",
              "      <th>smoking_status</th>\n",
              "      <th>stroke</th>\n",
              "      <th>Male</th>\n",
              "      <th>Female</th>\n",
              "      <th>Other</th>\n",
              "      <th>Govt_job</th>\n",
              "      <th>Never_worked</th>\n",
              "      <th>Private</th>\n",
              "      <th>children</th>\n",
              "    </tr>\n",
              "  </thead>\n",
              "  <tbody>\n",
              "    <tr>\n",
              "      <th>0</th>\n",
              "      <td>3.0</td>\n",
              "      <td>0</td>\n",
              "      <td>0</td>\n",
              "      <td>0</td>\n",
              "      <td>95.12</td>\n",
              "      <td>18.0</td>\n",
              "      <td>1.5</td>\n",
              "      <td>0</td>\n",
              "      <td>True</td>\n",
              "      <td>False</td>\n",
              "      <td>False</td>\n",
              "      <td>False</td>\n",
              "      <td>False</td>\n",
              "      <td>False</td>\n",
              "      <td>True</td>\n",
              "    </tr>\n",
              "    <tr>\n",
              "      <th>1</th>\n",
              "      <td>58.0</td>\n",
              "      <td>1</td>\n",
              "      <td>0</td>\n",
              "      <td>1</td>\n",
              "      <td>87.96</td>\n",
              "      <td>39.2</td>\n",
              "      <td>0.0</td>\n",
              "      <td>0</td>\n",
              "      <td>True</td>\n",
              "      <td>False</td>\n",
              "      <td>False</td>\n",
              "      <td>False</td>\n",
              "      <td>False</td>\n",
              "      <td>True</td>\n",
              "      <td>False</td>\n",
              "    </tr>\n",
              "    <tr>\n",
              "      <th>2</th>\n",
              "      <td>8.0</td>\n",
              "      <td>0</td>\n",
              "      <td>0</td>\n",
              "      <td>0</td>\n",
              "      <td>110.89</td>\n",
              "      <td>17.6</td>\n",
              "      <td>1.5</td>\n",
              "      <td>0</td>\n",
              "      <td>False</td>\n",
              "      <td>True</td>\n",
              "      <td>False</td>\n",
              "      <td>False</td>\n",
              "      <td>False</td>\n",
              "      <td>True</td>\n",
              "      <td>False</td>\n",
              "    </tr>\n",
              "    <tr>\n",
              "      <th>3</th>\n",
              "      <td>70.0</td>\n",
              "      <td>0</td>\n",
              "      <td>0</td>\n",
              "      <td>1</td>\n",
              "      <td>69.04</td>\n",
              "      <td>35.9</td>\n",
              "      <td>2.0</td>\n",
              "      <td>0</td>\n",
              "      <td>False</td>\n",
              "      <td>True</td>\n",
              "      <td>False</td>\n",
              "      <td>False</td>\n",
              "      <td>False</td>\n",
              "      <td>True</td>\n",
              "      <td>False</td>\n",
              "    </tr>\n",
              "    <tr>\n",
              "      <th>4</th>\n",
              "      <td>14.0</td>\n",
              "      <td>0</td>\n",
              "      <td>0</td>\n",
              "      <td>0</td>\n",
              "      <td>161.28</td>\n",
              "      <td>19.1</td>\n",
              "      <td>1.5</td>\n",
              "      <td>0</td>\n",
              "      <td>True</td>\n",
              "      <td>False</td>\n",
              "      <td>False</td>\n",
              "      <td>False</td>\n",
              "      <td>True</td>\n",
              "      <td>False</td>\n",
              "      <td>False</td>\n",
              "    </tr>\n",
              "  </tbody>\n",
              "</table>\n",
              "</div>"
            ],
            "text/plain": [
              "    age  hypertension  heart_disease  ever_married  avg_glucose_level   bmi   \n",
              "0   3.0             0              0             0              95.12  18.0  \\\n",
              "1  58.0             1              0             1              87.96  39.2   \n",
              "2   8.0             0              0             0             110.89  17.6   \n",
              "3  70.0             0              0             1              69.04  35.9   \n",
              "4  14.0             0              0             0             161.28  19.1   \n",
              "\n",
              "   smoking_status  stroke   Male  Female  Other  Govt_job  Never_worked   \n",
              "0             1.5       0   True   False  False     False         False  \\\n",
              "1             0.0       0   True   False  False     False         False   \n",
              "2             1.5       0  False    True  False     False         False   \n",
              "3             2.0       0  False    True  False     False         False   \n",
              "4             1.5       0   True   False  False     False          True   \n",
              "\n",
              "   Private  children  \n",
              "0    False      True  \n",
              "1     True     False  \n",
              "2     True     False  \n",
              "3     True     False  \n",
              "4    False     False  "
            ]
          },
          "execution_count": 32,
          "metadata": {},
          "output_type": "execute_result"
        }
      ],
      "source": [
        "stroke.head()"
      ]
    },
    {
      "cell_type": "code",
      "execution_count": 33,
      "metadata": {
        "id": "sgPZrfY_ukxd"
      },
      "outputs": [],
      "source": [
        "stroke['stroke_target'] = stroke['stroke']"
      ]
    },
    {
      "cell_type": "code",
      "execution_count": 34,
      "metadata": {
        "id": "PGA2aB2yunih"
      },
      "outputs": [],
      "source": [
        "stroke = stroke.drop('stroke', axis=1)"
      ]
    },
    {
      "cell_type": "code",
      "execution_count": 35,
      "metadata": {
        "colab": {
          "base_uri": "https://localhost:8080/",
          "height": 584
        },
        "id": "Sj6UHcgRuu97",
        "outputId": "9d25e5b0-ebbc-4d36-f43b-c7628fbb56e8"
      },
      "outputs": [
        {
          "data": {
            "text/html": [
              "<div>\n",
              "<style scoped>\n",
              "    .dataframe tbody tr th:only-of-type {\n",
              "        vertical-align: middle;\n",
              "    }\n",
              "\n",
              "    .dataframe tbody tr th {\n",
              "        vertical-align: top;\n",
              "    }\n",
              "\n",
              "    .dataframe thead th {\n",
              "        text-align: right;\n",
              "    }\n",
              "</style>\n",
              "<table border=\"1\" class=\"dataframe\">\n",
              "  <thead>\n",
              "    <tr style=\"text-align: right;\">\n",
              "      <th></th>\n",
              "      <th>age</th>\n",
              "      <th>hypertension</th>\n",
              "      <th>heart_disease</th>\n",
              "      <th>ever_married</th>\n",
              "      <th>avg_glucose_level</th>\n",
              "      <th>bmi</th>\n",
              "      <th>smoking_status</th>\n",
              "      <th>Male</th>\n",
              "      <th>Female</th>\n",
              "      <th>Other</th>\n",
              "      <th>Govt_job</th>\n",
              "      <th>Never_worked</th>\n",
              "      <th>Private</th>\n",
              "      <th>children</th>\n",
              "      <th>stroke_target</th>\n",
              "    </tr>\n",
              "  </thead>\n",
              "  <tbody>\n",
              "    <tr>\n",
              "      <th>age</th>\n",
              "      <td>1.000000</td>\n",
              "      <td>0.272169</td>\n",
              "      <td>0.250188</td>\n",
              "      <td>0.693070</td>\n",
              "      <td>0.237627</td>\n",
              "      <td>0.352236</td>\n",
              "      <td>0.006287</td>\n",
              "      <td>-0.027603</td>\n",
              "      <td>0.027768</td>\n",
              "      <td>-0.005168</td>\n",
              "      <td>0.115651</td>\n",
              "      <td>-0.069509</td>\n",
              "      <td>0.143657</td>\n",
              "      <td>-0.641240</td>\n",
              "      <td>0.156049</td>\n",
              "    </tr>\n",
              "    <tr>\n",
              "      <th>hypertension</th>\n",
              "      <td>0.272169</td>\n",
              "      <td>1.000000</td>\n",
              "      <td>0.119777</td>\n",
              "      <td>0.176575</td>\n",
              "      <td>0.160211</td>\n",
              "      <td>0.153779</td>\n",
              "      <td>-0.001062</td>\n",
              "      <td>0.024070</td>\n",
              "      <td>-0.023902</td>\n",
              "      <td>-0.005116</td>\n",
              "      <td>0.020065</td>\n",
              "      <td>-0.019319</td>\n",
              "      <td>0.007236</td>\n",
              "      <td>-0.130171</td>\n",
              "      <td>0.075332</td>\n",
              "    </tr>\n",
              "    <tr>\n",
              "      <th>heart_disease</th>\n",
              "      <td>0.250188</td>\n",
              "      <td>0.119777</td>\n",
              "      <td>1.000000</td>\n",
              "      <td>0.128833</td>\n",
              "      <td>0.146938</td>\n",
              "      <td>0.054133</td>\n",
              "      <td>0.056023</td>\n",
              "      <td>0.082393</td>\n",
              "      <td>-0.082270</td>\n",
              "      <td>-0.003556</td>\n",
              "      <td>-0.002441</td>\n",
              "      <td>-0.014292</td>\n",
              "      <td>-0.006327</td>\n",
              "      <td>-0.089559</td>\n",
              "      <td>0.113763</td>\n",
              "    </tr>\n",
              "    <tr>\n",
              "      <th>ever_married</th>\n",
              "      <td>0.693070</td>\n",
              "      <td>0.176575</td>\n",
              "      <td>0.128833</td>\n",
              "      <td>1.000000</td>\n",
              "      <td>0.153607</td>\n",
              "      <td>0.337517</td>\n",
              "      <td>0.013027</td>\n",
              "      <td>-0.030982</td>\n",
              "      <td>0.031183</td>\n",
              "      <td>-0.006290</td>\n",
              "      <td>0.135298</td>\n",
              "      <td>-0.080734</td>\n",
              "      <td>0.158857</td>\n",
              "      <td>-0.546495</td>\n",
              "      <td>0.071920</td>\n",
              "    </tr>\n",
              "    <tr>\n",
              "      <th>avg_glucose_level</th>\n",
              "      <td>0.237627</td>\n",
              "      <td>0.160211</td>\n",
              "      <td>0.146938</td>\n",
              "      <td>0.153607</td>\n",
              "      <td>1.000000</td>\n",
              "      <td>0.184199</td>\n",
              "      <td>0.017865</td>\n",
              "      <td>0.035888</td>\n",
              "      <td>-0.035695</td>\n",
              "      <td>-0.005841</td>\n",
              "      <td>0.023014</td>\n",
              "      <td>-0.014516</td>\n",
              "      <td>0.008048</td>\n",
              "      <td>-0.114174</td>\n",
              "      <td>0.078917</td>\n",
              "    </tr>\n",
              "    <tr>\n",
              "      <th>bmi</th>\n",
              "      <td>0.352236</td>\n",
              "      <td>0.153779</td>\n",
              "      <td>0.054133</td>\n",
              "      <td>0.337517</td>\n",
              "      <td>0.184199</td>\n",
              "      <td>1.000000</td>\n",
              "      <td>-0.022156</td>\n",
              "      <td>-0.021536</td>\n",
              "      <td>0.021565</td>\n",
              "      <td>-0.000935</td>\n",
              "      <td>0.093567</td>\n",
              "      <td>-0.021608</td>\n",
              "      <td>0.200884</td>\n",
              "      <td>-0.454870</td>\n",
              "      <td>0.018407</td>\n",
              "    </tr>\n",
              "    <tr>\n",
              "      <th>smoking_status</th>\n",
              "      <td>0.006287</td>\n",
              "      <td>-0.001062</td>\n",
              "      <td>0.056023</td>\n",
              "      <td>0.013027</td>\n",
              "      <td>0.017865</td>\n",
              "      <td>-0.022156</td>\n",
              "      <td>1.000000</td>\n",
              "      <td>0.089963</td>\n",
              "      <td>-0.090136</td>\n",
              "      <td>0.005596</td>\n",
              "      <td>-0.008418</td>\n",
              "      <td>-0.023432</td>\n",
              "      <td>-0.026192</td>\n",
              "      <td>0.047668</td>\n",
              "      <td>0.011789</td>\n",
              "    </tr>\n",
              "    <tr>\n",
              "      <th>Male</th>\n",
              "      <td>-0.027603</td>\n",
              "      <td>0.024070</td>\n",
              "      <td>0.082393</td>\n",
              "      <td>-0.030982</td>\n",
              "      <td>0.035888</td>\n",
              "      <td>-0.021536</td>\n",
              "      <td>0.089963</td>\n",
              "      <td>1.000000</td>\n",
              "      <td>-0.999476</td>\n",
              "      <td>-0.013229</td>\n",
              "      <td>-0.013538</td>\n",
              "      <td>0.002733</td>\n",
              "      <td>-0.052100</td>\n",
              "      <td>0.089076</td>\n",
              "      <td>0.011352</td>\n",
              "    </tr>\n",
              "    <tr>\n",
              "      <th>Female</th>\n",
              "      <td>0.027768</td>\n",
              "      <td>-0.023902</td>\n",
              "      <td>-0.082270</td>\n",
              "      <td>0.031183</td>\n",
              "      <td>-0.035695</td>\n",
              "      <td>0.021565</td>\n",
              "      <td>-0.090136</td>\n",
              "      <td>-0.999476</td>\n",
              "      <td>1.000000</td>\n",
              "      <td>-0.019154</td>\n",
              "      <td>0.013449</td>\n",
              "      <td>-0.002700</td>\n",
              "      <td>0.052028</td>\n",
              "      <td>-0.089127</td>\n",
              "      <td>-0.011281</td>\n",
              "    </tr>\n",
              "    <tr>\n",
              "      <th>Other</th>\n",
              "      <td>-0.005168</td>\n",
              "      <td>-0.005116</td>\n",
              "      <td>-0.003556</td>\n",
              "      <td>-0.006290</td>\n",
              "      <td>-0.005841</td>\n",
              "      <td>-0.000935</td>\n",
              "      <td>0.005596</td>\n",
              "      <td>-0.013229</td>\n",
              "      <td>-0.019154</td>\n",
              "      <td>1.000000</td>\n",
              "      <td>0.002716</td>\n",
              "      <td>-0.001019</td>\n",
              "      <td>0.002065</td>\n",
              "      <td>0.001824</td>\n",
              "      <td>-0.002158</td>\n",
              "    </tr>\n",
              "    <tr>\n",
              "      <th>Govt_job</th>\n",
              "      <td>0.115651</td>\n",
              "      <td>0.020065</td>\n",
              "      <td>-0.002441</td>\n",
              "      <td>0.135298</td>\n",
              "      <td>0.023014</td>\n",
              "      <td>0.093567</td>\n",
              "      <td>-0.008418</td>\n",
              "      <td>-0.013538</td>\n",
              "      <td>0.013449</td>\n",
              "      <td>0.002716</td>\n",
              "      <td>1.000000</td>\n",
              "      <td>-0.024225</td>\n",
              "      <td>-0.437825</td>\n",
              "      <td>-0.153907</td>\n",
              "      <td>-0.004782</td>\n",
              "    </tr>\n",
              "    <tr>\n",
              "      <th>Never_worked</th>\n",
              "      <td>-0.069509</td>\n",
              "      <td>-0.019319</td>\n",
              "      <td>-0.014292</td>\n",
              "      <td>-0.080734</td>\n",
              "      <td>-0.014516</td>\n",
              "      <td>-0.021608</td>\n",
              "      <td>-0.023432</td>\n",
              "      <td>0.002733</td>\n",
              "      <td>-0.002700</td>\n",
              "      <td>-0.001019</td>\n",
              "      <td>-0.024225</td>\n",
              "      <td>1.000000</td>\n",
              "      <td>-0.074011</td>\n",
              "      <td>-0.026017</td>\n",
              "      <td>-0.008674</td>\n",
              "    </tr>\n",
              "    <tr>\n",
              "      <th>Private</th>\n",
              "      <td>0.143657</td>\n",
              "      <td>0.007236</td>\n",
              "      <td>-0.006327</td>\n",
              "      <td>0.158857</td>\n",
              "      <td>0.008048</td>\n",
              "      <td>0.200884</td>\n",
              "      <td>-0.026192</td>\n",
              "      <td>-0.052100</td>\n",
              "      <td>0.052028</td>\n",
              "      <td>0.002065</td>\n",
              "      <td>-0.437825</td>\n",
              "      <td>-0.074011</td>\n",
              "      <td>1.000000</td>\n",
              "      <td>-0.470203</td>\n",
              "      <td>-0.002464</td>\n",
              "    </tr>\n",
              "    <tr>\n",
              "      <th>children</th>\n",
              "      <td>-0.641240</td>\n",
              "      <td>-0.130171</td>\n",
              "      <td>-0.089559</td>\n",
              "      <td>-0.546495</td>\n",
              "      <td>-0.114174</td>\n",
              "      <td>-0.454870</td>\n",
              "      <td>0.047668</td>\n",
              "      <td>0.089076</td>\n",
              "      <td>-0.089127</td>\n",
              "      <td>0.001824</td>\n",
              "      <td>-0.153907</td>\n",
              "      <td>-0.026017</td>\n",
              "      <td>-0.470203</td>\n",
              "      <td>1.000000</td>\n",
              "      <td>-0.054115</td>\n",
              "    </tr>\n",
              "    <tr>\n",
              "      <th>stroke_target</th>\n",
              "      <td>0.156049</td>\n",
              "      <td>0.075332</td>\n",
              "      <td>0.113763</td>\n",
              "      <td>0.071920</td>\n",
              "      <td>0.078917</td>\n",
              "      <td>0.018407</td>\n",
              "      <td>0.011789</td>\n",
              "      <td>0.011352</td>\n",
              "      <td>-0.011281</td>\n",
              "      <td>-0.002158</td>\n",
              "      <td>-0.004782</td>\n",
              "      <td>-0.008674</td>\n",
              "      <td>-0.002464</td>\n",
              "      <td>-0.054115</td>\n",
              "      <td>1.000000</td>\n",
              "    </tr>\n",
              "  </tbody>\n",
              "</table>\n",
              "</div>"
            ],
            "text/plain": [
              "                        age  hypertension  heart_disease  ever_married   \n",
              "age                1.000000      0.272169       0.250188      0.693070  \\\n",
              "hypertension       0.272169      1.000000       0.119777      0.176575   \n",
              "heart_disease      0.250188      0.119777       1.000000      0.128833   \n",
              "ever_married       0.693070      0.176575       0.128833      1.000000   \n",
              "avg_glucose_level  0.237627      0.160211       0.146938      0.153607   \n",
              "bmi                0.352236      0.153779       0.054133      0.337517   \n",
              "smoking_status     0.006287     -0.001062       0.056023      0.013027   \n",
              "Male              -0.027603      0.024070       0.082393     -0.030982   \n",
              "Female             0.027768     -0.023902      -0.082270      0.031183   \n",
              "Other             -0.005168     -0.005116      -0.003556     -0.006290   \n",
              "Govt_job           0.115651      0.020065      -0.002441      0.135298   \n",
              "Never_worked      -0.069509     -0.019319      -0.014292     -0.080734   \n",
              "Private            0.143657      0.007236      -0.006327      0.158857   \n",
              "children          -0.641240     -0.130171      -0.089559     -0.546495   \n",
              "stroke_target      0.156049      0.075332       0.113763      0.071920   \n",
              "\n",
              "                   avg_glucose_level       bmi  smoking_status      Male   \n",
              "age                         0.237627  0.352236        0.006287 -0.027603  \\\n",
              "hypertension                0.160211  0.153779       -0.001062  0.024070   \n",
              "heart_disease               0.146938  0.054133        0.056023  0.082393   \n",
              "ever_married                0.153607  0.337517        0.013027 -0.030982   \n",
              "avg_glucose_level           1.000000  0.184199        0.017865  0.035888   \n",
              "bmi                         0.184199  1.000000       -0.022156 -0.021536   \n",
              "smoking_status              0.017865 -0.022156        1.000000  0.089963   \n",
              "Male                        0.035888 -0.021536        0.089963  1.000000   \n",
              "Female                     -0.035695  0.021565       -0.090136 -0.999476   \n",
              "Other                      -0.005841 -0.000935        0.005596 -0.013229   \n",
              "Govt_job                    0.023014  0.093567       -0.008418 -0.013538   \n",
              "Never_worked               -0.014516 -0.021608       -0.023432  0.002733   \n",
              "Private                     0.008048  0.200884       -0.026192 -0.052100   \n",
              "children                   -0.114174 -0.454870        0.047668  0.089076   \n",
              "stroke_target               0.078917  0.018407        0.011789  0.011352   \n",
              "\n",
              "                     Female     Other  Govt_job  Never_worked   Private   \n",
              "age                0.027768 -0.005168  0.115651     -0.069509  0.143657  \\\n",
              "hypertension      -0.023902 -0.005116  0.020065     -0.019319  0.007236   \n",
              "heart_disease     -0.082270 -0.003556 -0.002441     -0.014292 -0.006327   \n",
              "ever_married       0.031183 -0.006290  0.135298     -0.080734  0.158857   \n",
              "avg_glucose_level -0.035695 -0.005841  0.023014     -0.014516  0.008048   \n",
              "bmi                0.021565 -0.000935  0.093567     -0.021608  0.200884   \n",
              "smoking_status    -0.090136  0.005596 -0.008418     -0.023432 -0.026192   \n",
              "Male              -0.999476 -0.013229 -0.013538      0.002733 -0.052100   \n",
              "Female             1.000000 -0.019154  0.013449     -0.002700  0.052028   \n",
              "Other             -0.019154  1.000000  0.002716     -0.001019  0.002065   \n",
              "Govt_job           0.013449  0.002716  1.000000     -0.024225 -0.437825   \n",
              "Never_worked      -0.002700 -0.001019 -0.024225      1.000000 -0.074011   \n",
              "Private            0.052028  0.002065 -0.437825     -0.074011  1.000000   \n",
              "children          -0.089127  0.001824 -0.153907     -0.026017 -0.470203   \n",
              "stroke_target     -0.011281 -0.002158 -0.004782     -0.008674 -0.002464   \n",
              "\n",
              "                   children  stroke_target  \n",
              "age               -0.641240       0.156049  \n",
              "hypertension      -0.130171       0.075332  \n",
              "heart_disease     -0.089559       0.113763  \n",
              "ever_married      -0.546495       0.071920  \n",
              "avg_glucose_level -0.114174       0.078917  \n",
              "bmi               -0.454870       0.018407  \n",
              "smoking_status     0.047668       0.011789  \n",
              "Male               0.089076       0.011352  \n",
              "Female            -0.089127      -0.011281  \n",
              "Other              0.001824      -0.002158  \n",
              "Govt_job          -0.153907      -0.004782  \n",
              "Never_worked      -0.026017      -0.008674  \n",
              "Private           -0.470203      -0.002464  \n",
              "children           1.000000      -0.054115  \n",
              "stroke_target     -0.054115       1.000000  "
            ]
          },
          "execution_count": 35,
          "metadata": {},
          "output_type": "execute_result"
        }
      ],
      "source": [
        "stroke_corr = stroke.corr()\n",
        "stroke_corr"
      ]
    },
    {
      "cell_type": "code",
      "execution_count": 36,
      "metadata": {
        "colab": {
          "base_uri": "https://localhost:8080/",
          "height": 300
        },
        "id": "vwN68bFz2GnS",
        "outputId": "cb2c46ca-66c6-465a-a511-689a06cfdcdb"
      },
      "outputs": [
        {
          "data": {
            "text/html": [
              "<div>\n",
              "<style scoped>\n",
              "    .dataframe tbody tr th:only-of-type {\n",
              "        vertical-align: middle;\n",
              "    }\n",
              "\n",
              "    .dataframe tbody tr th {\n",
              "        vertical-align: top;\n",
              "    }\n",
              "\n",
              "    .dataframe thead th {\n",
              "        text-align: right;\n",
              "    }\n",
              "</style>\n",
              "<table border=\"1\" class=\"dataframe\">\n",
              "  <thead>\n",
              "    <tr style=\"text-align: right;\">\n",
              "      <th></th>\n",
              "      <th>age</th>\n",
              "      <th>hypertension</th>\n",
              "      <th>heart_disease</th>\n",
              "      <th>ever_married</th>\n",
              "      <th>avg_glucose_level</th>\n",
              "      <th>bmi</th>\n",
              "      <th>smoking_status</th>\n",
              "      <th>stroke_target</th>\n",
              "    </tr>\n",
              "  </thead>\n",
              "  <tbody>\n",
              "    <tr>\n",
              "      <th>count</th>\n",
              "      <td>43400.000000</td>\n",
              "      <td>43400.000000</td>\n",
              "      <td>43400.000000</td>\n",
              "      <td>43400.000000</td>\n",
              "      <td>43400.000000</td>\n",
              "      <td>43400.000000</td>\n",
              "      <td>43400.000000</td>\n",
              "      <td>43400.000000</td>\n",
              "    </tr>\n",
              "    <tr>\n",
              "      <th>mean</th>\n",
              "      <td>42.217894</td>\n",
              "      <td>0.093571</td>\n",
              "      <td>0.047512</td>\n",
              "      <td>0.643733</td>\n",
              "      <td>104.482750</td>\n",
              "      <td>28.605038</td>\n",
              "      <td>1.258295</td>\n",
              "      <td>0.018041</td>\n",
              "    </tr>\n",
              "    <tr>\n",
              "      <th>std</th>\n",
              "      <td>22.519649</td>\n",
              "      <td>0.291235</td>\n",
              "      <td>0.212733</td>\n",
              "      <td>0.478901</td>\n",
              "      <td>43.111751</td>\n",
              "      <td>7.638023</td>\n",
              "      <td>1.075734</td>\n",
              "      <td>0.133103</td>\n",
              "    </tr>\n",
              "    <tr>\n",
              "      <th>min</th>\n",
              "      <td>0.080000</td>\n",
              "      <td>0.000000</td>\n",
              "      <td>0.000000</td>\n",
              "      <td>0.000000</td>\n",
              "      <td>55.000000</td>\n",
              "      <td>10.100000</td>\n",
              "      <td>0.000000</td>\n",
              "      <td>0.000000</td>\n",
              "    </tr>\n",
              "    <tr>\n",
              "      <th>25%</th>\n",
              "      <td>24.000000</td>\n",
              "      <td>0.000000</td>\n",
              "      <td>0.000000</td>\n",
              "      <td>0.000000</td>\n",
              "      <td>77.540000</td>\n",
              "      <td>23.400000</td>\n",
              "      <td>0.000000</td>\n",
              "      <td>0.000000</td>\n",
              "    </tr>\n",
              "    <tr>\n",
              "      <th>50%</th>\n",
              "      <td>44.000000</td>\n",
              "      <td>0.000000</td>\n",
              "      <td>0.000000</td>\n",
              "      <td>1.000000</td>\n",
              "      <td>91.580000</td>\n",
              "      <td>28.100000</td>\n",
              "      <td>1.500000</td>\n",
              "      <td>0.000000</td>\n",
              "    </tr>\n",
              "    <tr>\n",
              "      <th>75%</th>\n",
              "      <td>60.000000</td>\n",
              "      <td>0.000000</td>\n",
              "      <td>0.000000</td>\n",
              "      <td>1.000000</td>\n",
              "      <td>112.070000</td>\n",
              "      <td>32.600000</td>\n",
              "      <td>2.000000</td>\n",
              "      <td>0.000000</td>\n",
              "    </tr>\n",
              "    <tr>\n",
              "      <th>max</th>\n",
              "      <td>82.000000</td>\n",
              "      <td>1.000000</td>\n",
              "      <td>1.000000</td>\n",
              "      <td>1.000000</td>\n",
              "      <td>291.050000</td>\n",
              "      <td>97.600000</td>\n",
              "      <td>3.000000</td>\n",
              "      <td>1.000000</td>\n",
              "    </tr>\n",
              "  </tbody>\n",
              "</table>\n",
              "</div>"
            ],
            "text/plain": [
              "                age  hypertension  heart_disease  ever_married   \n",
              "count  43400.000000  43400.000000   43400.000000  43400.000000  \\\n",
              "mean      42.217894      0.093571       0.047512      0.643733   \n",
              "std       22.519649      0.291235       0.212733      0.478901   \n",
              "min        0.080000      0.000000       0.000000      0.000000   \n",
              "25%       24.000000      0.000000       0.000000      0.000000   \n",
              "50%       44.000000      0.000000       0.000000      1.000000   \n",
              "75%       60.000000      0.000000       0.000000      1.000000   \n",
              "max       82.000000      1.000000       1.000000      1.000000   \n",
              "\n",
              "       avg_glucose_level           bmi  smoking_status  stroke_target  \n",
              "count       43400.000000  43400.000000    43400.000000   43400.000000  \n",
              "mean          104.482750     28.605038        1.258295       0.018041  \n",
              "std            43.111751      7.638023        1.075734       0.133103  \n",
              "min            55.000000     10.100000        0.000000       0.000000  \n",
              "25%            77.540000     23.400000        0.000000       0.000000  \n",
              "50%            91.580000     28.100000        1.500000       0.000000  \n",
              "75%           112.070000     32.600000        2.000000       0.000000  \n",
              "max           291.050000     97.600000        3.000000       1.000000  "
            ]
          },
          "execution_count": 36,
          "metadata": {},
          "output_type": "execute_result"
        }
      ],
      "source": [
        "stroke.describe()"
      ]
    },
    {
      "cell_type": "code",
      "execution_count": 37,
      "metadata": {
        "colab": {
          "base_uri": "https://localhost:8080/",
          "height": 367
        },
        "id": "WZfSTBjeuy2e",
        "outputId": "2fe09d28-d047-4826-f300-fc6123713f17"
      },
      "outputs": [
        {
          "data": {
            "text/plain": [
              "<Axes: >"
            ]
          },
          "execution_count": 37,
          "metadata": {},
          "output_type": "execute_result"
        },
        {
          "data": {
            "image/png": "[encoded data removed]",
            "text/plain": [
              "<Figure size 640x480 with 2 Axes>"
            ]
          },
          "metadata": {},
          "output_type": "display_data"
        }
      ],
      "source": [
        "import seaborn as sns\n",
        "\n",
        "sns.heatmap(stroke_corr, cmap = 'YlOrBr')"
      ]
    },
    {
      "cell_type": "markdown",
      "metadata": {
        "id": "eWRD9ug4u5Ai"
      },
      "source": [
        "# Train and Test"
      ]
    },
    {
      "cell_type": "code",
      "execution_count": 38,
      "metadata": {
        "colab": {
          "base_uri": "https://localhost:8080/",
          "height": 206
        },
        "id": "mHyAqvx5vJMl",
        "outputId": "36ae2f35-999b-4fd9-8e7c-f14c66c90dc0"
      },
      "outputs": [
        {
          "data": {
            "text/html": [
              "<div>\n",
              "<style scoped>\n",
              "    .dataframe tbody tr th:only-of-type {\n",
              "        vertical-align: middle;\n",
              "    }\n",
              "\n",
              "    .dataframe tbody tr th {\n",
              "        vertical-align: top;\n",
              "    }\n",
              "\n",
              "    .dataframe thead th {\n",
              "        text-align: right;\n",
              "    }\n",
              "</style>\n",
              "<table border=\"1\" class=\"dataframe\">\n",
              "  <thead>\n",
              "    <tr style=\"text-align: right;\">\n",
              "      <th></th>\n",
              "      <th>age</th>\n",
              "      <th>hypertension</th>\n",
              "      <th>heart_disease</th>\n",
              "      <th>ever_married</th>\n",
              "      <th>avg_glucose_level</th>\n",
              "      <th>bmi</th>\n",
              "      <th>smoking_status</th>\n",
              "      <th>Male</th>\n",
              "      <th>Female</th>\n",
              "      <th>Other</th>\n",
              "      <th>Govt_job</th>\n",
              "      <th>Never_worked</th>\n",
              "      <th>Private</th>\n",
              "      <th>children</th>\n",
              "      <th>stroke_target</th>\n",
              "    </tr>\n",
              "  </thead>\n",
              "  <tbody>\n",
              "    <tr>\n",
              "      <th>0</th>\n",
              "      <td>3.0</td>\n",
              "      <td>0</td>\n",
              "      <td>0</td>\n",
              "      <td>0</td>\n",
              "      <td>95.12</td>\n",
              "      <td>18.0</td>\n",
              "      <td>1.5</td>\n",
              "      <td>True</td>\n",
              "      <td>False</td>\n",
              "      <td>False</td>\n",
              "      <td>False</td>\n",
              "      <td>False</td>\n",
              "      <td>False</td>\n",
              "      <td>True</td>\n",
              "      <td>0</td>\n",
              "    </tr>\n",
              "    <tr>\n",
              "      <th>1</th>\n",
              "      <td>58.0</td>\n",
              "      <td>1</td>\n",
              "      <td>0</td>\n",
              "      <td>1</td>\n",
              "      <td>87.96</td>\n",
              "      <td>39.2</td>\n",
              "      <td>0.0</td>\n",
              "      <td>True</td>\n",
              "      <td>False</td>\n",
              "      <td>False</td>\n",
              "      <td>False</td>\n",
              "      <td>False</td>\n",
              "      <td>True</td>\n",
              "      <td>False</td>\n",
              "      <td>0</td>\n",
              "    </tr>\n",
              "    <tr>\n",
              "      <th>2</th>\n",
              "      <td>8.0</td>\n",
              "      <td>0</td>\n",
              "      <td>0</td>\n",
              "      <td>0</td>\n",
              "      <td>110.89</td>\n",
              "      <td>17.6</td>\n",
              "      <td>1.5</td>\n",
              "      <td>False</td>\n",
              "      <td>True</td>\n",
              "      <td>False</td>\n",
              "      <td>False</td>\n",
              "      <td>False</td>\n",
              "      <td>True</td>\n",
              "      <td>False</td>\n",
              "      <td>0</td>\n",
              "    </tr>\n",
              "    <tr>\n",
              "      <th>3</th>\n",
              "      <td>70.0</td>\n",
              "      <td>0</td>\n",
              "      <td>0</td>\n",
              "      <td>1</td>\n",
              "      <td>69.04</td>\n",
              "      <td>35.9</td>\n",
              "      <td>2.0</td>\n",
              "      <td>False</td>\n",
              "      <td>True</td>\n",
              "      <td>False</td>\n",
              "      <td>False</td>\n",
              "      <td>False</td>\n",
              "      <td>True</td>\n",
              "      <td>False</td>\n",
              "      <td>0</td>\n",
              "    </tr>\n",
              "    <tr>\n",
              "      <th>4</th>\n",
              "      <td>14.0</td>\n",
              "      <td>0</td>\n",
              "      <td>0</td>\n",
              "      <td>0</td>\n",
              "      <td>161.28</td>\n",
              "      <td>19.1</td>\n",
              "      <td>1.5</td>\n",
              "      <td>True</td>\n",
              "      <td>False</td>\n",
              "      <td>False</td>\n",
              "      <td>False</td>\n",
              "      <td>True</td>\n",
              "      <td>False</td>\n",
              "      <td>False</td>\n",
              "      <td>0</td>\n",
              "    </tr>\n",
              "  </tbody>\n",
              "</table>\n",
              "</div>"
            ],
            "text/plain": [
              "    age  hypertension  heart_disease  ever_married  avg_glucose_level   bmi   \n",
              "0   3.0             0              0             0              95.12  18.0  \\\n",
              "1  58.0             1              0             1              87.96  39.2   \n",
              "2   8.0             0              0             0             110.89  17.6   \n",
              "3  70.0             0              0             1              69.04  35.9   \n",
              "4  14.0             0              0             0             161.28  19.1   \n",
              "\n",
              "   smoking_status   Male  Female  Other  Govt_job  Never_worked  Private   \n",
              "0             1.5   True   False  False     False         False    False  \\\n",
              "1             0.0   True   False  False     False         False     True   \n",
              "2             1.5  False    True  False     False         False     True   \n",
              "3             2.0  False    True  False     False         False     True   \n",
              "4             1.5   True   False  False     False          True    False   \n",
              "\n",
              "   children  stroke_target  \n",
              "0      True              0  \n",
              "1     False              0  \n",
              "2     False              0  \n",
              "3     False              0  \n",
              "4     False              0  "
            ]
          },
          "execution_count": 38,
          "metadata": {},
          "output_type": "execute_result"
        }
      ],
      "source": [
        "stroke.head()"
      ]
    },
    {
      "cell_type": "code",
      "execution_count": 40,
      "metadata": {
        "colab": {
          "base_uri": "https://localhost:8080/"
        },
        "id": "PH-q3t3Zu68L",
        "outputId": "40a1006e-0d0b-4932-dda0-3e4c5b4541b4"
      },
      "outputs": [
        {
          "ename": "ModuleNotFoundError",
          "evalue": "No module named 'sklearn'",
          "output_type": "error",
          "traceback": [
            "\u001b[1;31m---------------------------------------------------------------------------\u001b[0m",
            "\u001b[1;31mModuleNotFoundError\u001b[0m                       Traceback (most recent call last)",
            "Cell \u001b[1;32mIn[40], line 1\u001b[0m\n\u001b[1;32m----> 1\u001b[0m \u001b[39mfrom\u001b[39;00m \u001b[39msklearn\u001b[39;00m\u001b[39m.\u001b[39;00m\u001b[39mmodel_selection\u001b[39;00m \u001b[39mimport\u001b[39;00m train_test_split\n\u001b[0;32m      2\u001b[0m X \u001b[39m=\u001b[39m stroke\u001b[39m.\u001b[39miloc[:, :\u001b[39m-\u001b[39m\u001b[39m1\u001b[39m]\n\u001b[0;32m      3\u001b[0m Y \u001b[39m=\u001b[39m stroke\u001b[39m.\u001b[39miloc[:, \u001b[39m-\u001b[39m\u001b[39m1\u001b[39m]\n",
            "\u001b[1;31mModuleNotFoundError\u001b[0m: No module named 'sklearn'"
          ]
        }
      ],
      "source": [
        "from sklearn.model_selection import train_test_split\n",
        "X = stroke.iloc[:, :-1]\n",
        "Y = stroke.iloc[:, -1]\n",
        "X_train, X_test, Y_train, Y_test = train_test_split(X, Y, test_size=0.20, random_state=0)\n",
        "print(X_train.shape)\n",
        "print(X_test.shape)"
      ]
    },
    {
      "cell_type": "code",
      "execution_count": null,
      "metadata": {
        "colab": {
          "base_uri": "https://localhost:8080/"
        },
        "id": "yc8VLHrPvfXe",
        "outputId": "d284cf98-36ef-42e1-f200-8ea270fff437"
      },
      "outputs": [
        {
          "data": {
            "text/plain": [
              "MinMaxScaler()"
            ]
          },
          "execution_count": 41,
          "metadata": {},
          "output_type": "execute_result"
        }
      ],
      "source": [
        "from sklearn.preprocessing import MinMaxScaler\n",
        "\n",
        "scaler = MinMaxScaler()\n",
        "\n",
        "scaler.fit(X_train)"
      ]
    },
    {
      "cell_type": "code",
      "execution_count": null,
      "metadata": {
        "id": "_hq0EjlZvmQx"
      },
      "outputs": [],
      "source": [
        "X_train_scaled = scaler.transform(X_train)"
      ]
    },
    {
      "cell_type": "code",
      "execution_count": null,
      "metadata": {
        "colab": {
          "base_uri": "https://localhost:8080/"
        },
        "id": "jiycKM3ovoxQ",
        "outputId": "58db8f1b-4928-4e19-9b2c-a56f0f6631ed"
      },
      "outputs": [
        {
          "name": "stdout",
          "output_type": "stream",
          "text": [
            "per-feature minimum before scaling:\n",
            " age                   0.08\n",
            "hypertension          0.00\n",
            "heart_disease         0.00\n",
            "ever_married          0.00\n",
            "avg_glucose_level    55.00\n",
            "bmi                  10.10\n",
            "smoking_status        0.00\n",
            "Male                  0.00\n",
            "Female                0.00\n",
            "Other                 0.00\n",
            "Govt_job              0.00\n",
            "Never_worked          0.00\n",
            "Private               0.00\n",
            "children              0.00\n",
            "dtype: float64\n",
            "per-feature maximum before scaling:\n",
            " age                   82.00\n",
            "hypertension           1.00\n",
            "heart_disease          1.00\n",
            "ever_married           1.00\n",
            "avg_glucose_level    291.05\n",
            "bmi                   97.60\n",
            "smoking_status         3.00\n",
            "Male                   1.00\n",
            "Female                 1.00\n",
            "Other                  1.00\n",
            "Govt_job               1.00\n",
            "Never_worked           1.00\n",
            "Private                1.00\n",
            "children               1.00\n",
            "dtype: float64\n"
          ]
        }
      ],
      "source": [
        "print(\"per-feature minimum before scaling:\\n {}\".format(X_train.min(axis=0)))\n",
        "print(\"per-feature maximum before scaling:\\n {}\".format(X_train.max(axis=0)))"
      ]
    },
    {
      "cell_type": "code",
      "execution_count": null,
      "metadata": {
        "colab": {
          "base_uri": "https://localhost:8080/"
        },
        "id": "Ar7EOrk0vrCW",
        "outputId": "b078e335-bcbb-4381-e832-b897375ca06f"
      },
      "outputs": [
        {
          "name": "stdout",
          "output_type": "stream",
          "text": [
            "per-feature minimum after scaling:\n",
            " [0. 0. 0. 0. 0. 0. 0. 0. 0. 0. 0. 0. 0. 0.]\n",
            "per-feature maximum after scaling:\n",
            " [1. 1. 1. 1. 1. 1. 1. 1. 1. 1. 1. 1. 1. 1.]\n"
          ]
        }
      ],
      "source": [
        "print(\"per-feature minimum after scaling:\\n {}\".format(\n",
        "    X_train_scaled.min(axis=0)))\n",
        "print(\"per-feature maximum after scaling:\\n {}\".format(\n",
        "    X_train_scaled.max(axis=0)))"
      ]
    },
    {
      "cell_type": "markdown",
      "metadata": {
        "id": "TWfDhjt3vzkc"
      },
      "source": [
        "# KNeighborsClassifier"
      ]
    },
    {
      "cell_type": "markdown",
      "metadata": {
        "id": "YplonFz_wHHO"
      },
      "source": [
        "**MinMax Scaler**"
      ]
    },
    {
      "cell_type": "code",
      "execution_count": null,
      "metadata": {
        "colab": {
          "base_uri": "https://localhost:8080/"
        },
        "id": "zZZPuHThv3Ki",
        "outputId": "7460e5d3-95bd-49a1-96e3-f7ccf09ce62e"
      },
      "outputs": [
        {
          "name": "stdout",
          "output_type": "stream",
          "text": [
            "Test set accuracy: 0.98\n"
          ]
        }
      ],
      "source": [
        "from sklearn.neighbors import KNeighborsClassifier\n",
        "\n",
        "knn=KNeighborsClassifier()\n",
        "\n",
        "knn.fit(X_train, Y_train)\n",
        "\n",
        "print(\"Test set accuracy: {:.2f}\".format(knn.score(X_test, Y_test)))"
      ]
    },
    {
      "cell_type": "code",
      "execution_count": null,
      "metadata": {
        "colab": {
          "base_uri": "https://localhost:8080/"
        },
        "id": "hDkkobYcwDF_",
        "outputId": "52d09245-2338-426e-da57-0d2376c93a2c"
      },
      "outputs": [
        {
          "name": "stdout",
          "output_type": "stream",
          "text": [
            "Scaled test set accuracy: 0.98\n"
          ]
        }
      ],
      "source": [
        "scaler = MinMaxScaler()\n",
        "scaler.fit(X_train)\n",
        "\n",
        "X_train_scaled = scaler.transform(X_train)\n",
        "\n",
        "X_test_scaled = scaler.transform(X_test)\n",
        "\n",
        "knn.fit(X_train_scaled, Y_train)\n",
        "\n",
        "print(\"Scaled test set accuracy: {:.2f}\".format(\n",
        "    knn.score(X_test_scaled, Y_test)))"
      ]
    },
    {
      "cell_type": "markdown",
      "metadata": {
        "id": "9MEM4Y9FwKbi"
      },
      "source": [
        "**Standard Scaler**"
      ]
    },
    {
      "cell_type": "code",
      "execution_count": null,
      "metadata": {
        "id": "H5YbDgeJwRjM"
      },
      "outputs": [],
      "source": [
        "from sklearn.preprocessing import StandardScaler\n",
        "scaler = StandardScaler()\n",
        "\n",
        "#instead of using .fit() and .transform() separately, we can use .fit_transform()\n",
        "X_scaled_d = scaler.fit_transform(X_train)"
      ]
    },
    {
      "cell_type": "code",
      "execution_count": null,
      "metadata": {
        "colab": {
          "base_uri": "https://localhost:8080/"
        },
        "id": "2yhwMg3WwW4Z",
        "outputId": "77a2d3aa-057d-46e3-86aa-3f13766acbe5"
      },
      "outputs": [
        {
          "name": "stdout",
          "output_type": "stream",
          "text": [
            "KNN test accuracy: 0.98\n"
          ]
        }
      ],
      "source": [
        "# preprocessing using zero mean and unit variance scaling\n",
        "from sklearn.preprocessing import StandardScaler\n",
        "\n",
        "scaler = StandardScaler()\n",
        "scaler.fit(X_train)\n",
        "\n",
        "X_train_scaled = scaler.transform(X_train)\n",
        "X_test_scaled = scaler.transform(X_test)\n",
        "\n",
        "# learning an SVM on the scaled training data\n",
        "knn.fit(X_train_scaled, Y_train)\n",
        "\n",
        "# scoring on the scaled test set\n",
        "print(\"KNN test accuracy: {:.2f}\".format(knn.score(X_test_scaled, Y_test)))"
      ]
    },
    {
      "cell_type": "markdown",
      "metadata": {
        "id": "yO105wdBCLcp"
      },
      "source": [
        "# Logistic Regression"
      ]
    },
    {
      "cell_type": "code",
      "execution_count": null,
      "metadata": {
        "id": "r61H76LtCNNv"
      },
      "outputs": [],
      "source": [
        "import matplotlib.pyplot as plt\n",
        "import seaborn as sns\n",
        "from sklearn.linear_model import LogisticRegression\n",
        "from sklearn.metrics import classification_report\n",
        "from sklearn.metrics import accuracy_score\n",
        "from sklearn.model_selection import train_test_split"
      ]
    },
    {
      "cell_type": "code",
      "execution_count": null,
      "metadata": {
        "id": "5aX2zl5wCO5m"
      },
      "outputs": [],
      "source": [
        "X = stroke.iloc[:, :-1]\n",
        "y = stroke.iloc[:, -1]\n",
        "X_train,X_test,y_train,y_test = train_test_split(X,y,test_size=0.20,random_state=1)"
      ]
    },
    {
      "cell_type": "code",
      "execution_count": null,
      "metadata": {
        "colab": {
          "base_uri": "https://localhost:8080/"
        },
        "id": "lEp8prXPCO67",
        "outputId": "5a4db1af-c0a0-446a-a916-28f75f1a51d8"
      },
      "outputs": [
        {
          "name": "stderr",
          "output_type": "stream",
          "text": [
            "/usr/local/lib/python3.8/dist-packages/sklearn/linear_model/_logistic.py:814: ConvergenceWarning: lbfgs failed to converge (status=1):\n",
            "STOP: TOTAL NO. of ITERATIONS REACHED LIMIT.\n",
            "\n",
            "Increase the number of iterations (max_iter) or scale the data as shown in:\n",
            "    https://scikit-learn.org/stable/modules/preprocessing.html\n",
            "Please also refer to the documentation for alternative solver options:\n",
            "    https://scikit-learn.org/stable/modules/linear_model.html#logistic-regression\n",
            "  n_iter_i = _check_optimize_result(\n"
          ]
        },
        {
          "data": {
            "text/plain": [
              "array([0, 0, 0, ..., 0, 0, 0])"
            ]
          },
          "execution_count": 51,
          "metadata": {},
          "output_type": "execute_result"
        }
      ],
      "source": [
        "#Train the model\n",
        "model = LogisticRegression()\n",
        "model.fit(X_train, y_train) #Training the model\n",
        "predictions = model.predict(X_test)\n",
        "predictions"
      ]
    },
    {
      "cell_type": "code",
      "execution_count": null,
      "metadata": {
        "colab": {
          "base_uri": "https://localhost:8080/"
        },
        "id": "YGA3dhqaCO9P",
        "outputId": "9b7ab566-c7ef-46ee-b716-d3f6bdeee383"
      },
      "outputs": [
        {
          "name": "stdout",
          "output_type": "stream",
          "text": [
            "Accuracy using logistic regression: 0.9836405529953917\n"
          ]
        }
      ],
      "source": [
        "LR_accuracy = accuracy_score(y_test, predictions)\n",
        "print( \"Accuracy using logistic regression: \" + str(accuracy_score(y_test, predictions)))"
      ]
    },
    {
      "cell_type": "markdown",
      "metadata": {
        "id": "SlARoFtZunJm"
      },
      "source": [
        "# Decision Tree Classifier"
      ]
    },
    {
      "cell_type": "code",
      "execution_count": null,
      "metadata": {
        "colab": {
          "base_uri": "https://localhost:8080/"
        },
        "id": "fpuV5ZfvCO_c",
        "outputId": "5dd22432-76d9-4ea7-f739-a8a30d6b1ccc"
      },
      "outputs": [
        {
          "data": {
            "text/plain": [
              "array([0, 0, 0, ..., 0, 0, 0])"
            ]
          },
          "execution_count": 53,
          "metadata": {},
          "output_type": "execute_result"
        }
      ],
      "source": [
        "from sklearn.tree import DecisionTreeClassifier\n",
        "clf = DecisionTreeClassifier(criterion='entropy',random_state=1)\n",
        "clf.fit(X_train,y_train)\n",
        "y_pred = clf.predict(X_test)\n",
        "y_pred"
      ]
    },
    {
      "cell_type": "code",
      "execution_count": null,
      "metadata": {
        "colab": {
          "base_uri": "https://localhost:8080/"
        },
        "id": "MoV6hlBZCPBS",
        "outputId": "74eb2584-e2df-4fff-fe5b-9913af945099"
      },
      "outputs": [
        {
          "name": "stdout",
          "output_type": "stream",
          "text": [
            "Accuracy using descision tree: 0.9626728110599079\n"
          ]
        }
      ],
      "source": [
        "DT_accuracy = accuracy_score(y_pred,y_test)\n",
        "print(\"Accuracy using descision tree: \" + str(DT_accuracy))"
      ]
    },
    {
      "cell_type": "code",
      "execution_count": null,
      "metadata": {
        "colab": {
          "base_uri": "https://localhost:8080/",
          "height": 279
        },
        "id": "aDwZOXBtCPDi",
        "outputId": "b60bc667-1ad4-49aa-9801-fa9c0ce9c137"
      },
      "outputs": [
        {
          "data": {
            "image/png": "[encoded data removed]",
            "text/plain": [
              "<Figure size 432x288 with 1 Axes>"
            ]
          },
          "metadata": {
            "needs_background": "light"
          },
          "output_type": "display_data"
        }
      ],
      "source": [
        "x = [\"Logistic Regression\", \"Decision Tree\"]\n",
        "y = [LR_accuracy, DT_accuracy]\n",
        "plt.bar(x,y)\n",
        "plt.xlabel(\"Process\")\n",
        "plt.ylabel(\"Accuracy\")\n",
        "plt.show()"
      ]
    },
    {
      "cell_type": "code",
      "execution_count": null,
      "metadata": {
        "id": "knOBOAbtCPHv"
      },
      "outputs": [],
      "source": [
        "import numpy as np\n",
        "import pandas as pd\n",
        "import matplotlib.pyplot as plt\n",
        "%matplotlib inline "
      ]
    },
    {
      "cell_type": "code",
      "execution_count": null,
      "metadata": {
        "id": "YIj5-TzWDT4F"
      },
      "outputs": [],
      "source": [
        "# label data\n",
        "X = stroke.iloc[:, :-1]\n",
        "y = stroke.iloc[:, -1]"
      ]
    },
    {
      "cell_type": "code",
      "execution_count": null,
      "metadata": {
        "id": "dwOO_qgKDT6n"
      },
      "outputs": [],
      "source": [
        "#Lets split the data\n",
        "from sklearn.model_selection import train_test_split\n",
        "x_train, x_test, y_train, y_test= train_test_split(X, y, stratify=y, test_size=0.20)"
      ]
    },
    {
      "cell_type": "code",
      "execution_count": null,
      "metadata": {
        "colab": {
          "base_uri": "https://localhost:8080/"
        },
        "id": "VI0OWMtcDT9H",
        "outputId": "11660209-546c-4166-c167-ffa4568494b3"
      },
      "outputs": [
        {
          "name": "stdout",
          "output_type": "stream",
          "text": [
            "Training set: x->(34720, 14) , y->(34720,) \n",
            " Testing set: x->(8680, 14) , y->(8680,)\n"
          ]
        }
      ],
      "source": [
        "print(\"Training set: x->{} , y->{} \\n Testing set: x->{} , y->{}\".format(x_train.shape, y_train.shape, x_test.shape, y_test.shape))"
      ]
    },
    {
      "cell_type": "markdown",
      "metadata": {
        "id": "yS7mz6qxDZz3"
      },
      "source": [
        "# SVM"
      ]
    },
    {
      "cell_type": "code",
      "execution_count": null,
      "metadata": {
        "colab": {
          "base_uri": "https://localhost:8080/"
        },
        "id": "JPsdYNuLDdcB",
        "outputId": "b70f3f2b-4919-4ffe-d7ad-7b476e29947e"
      },
      "outputs": [
        {
          "data": {
            "text/plain": [
              "SVC(kernel='linear')"
            ]
          },
          "execution_count": 61,
          "metadata": {},
          "output_type": "execute_result"
        }
      ],
      "source": [
        "from sklearn.svm import SVC\n",
        "svc = SVC(kernel=\"linear\")\n",
        "svc.fit(x_train, y_train)"
      ]
    },
    {
      "cell_type": "code",
      "execution_count": null,
      "metadata": {
        "colab": {
          "base_uri": "https://localhost:8080/"
        },
        "id": "oVe4EWDwDUA5",
        "outputId": "a7d6a82f-a9b2-4a8a-ce8d-b99b82afe6f5"
      },
      "outputs": [
        {
          "name": "stdout",
          "output_type": "stream",
          "text": [
            "Training accuracy of the model is 0.98\n",
            "Testing accuracy of the model is 0.98\n"
          ]
        }
      ],
      "source": [
        "print(\"Training accuracy of the model is {:.2f}\".format(svc.score(x_train, y_train)))\n",
        "print(\"Testing accuracy of the model is {:.2f}\".format(svc.score(x_test, y_test)))\n",
        "\n",
        "pre_train_svc = svc.score(x_train, y_train)\n",
        "pre_test_svc = svc.score(x_test, y_test)"
      ]
    },
    {
      "cell_type": "code",
      "execution_count": null,
      "metadata": {
        "colab": {
          "base_uri": "https://localhost:8080/"
        },
        "id": "aGk4r_yHDUFQ",
        "outputId": "d1ffbcd2-a2ef-4ecc-89f7-a4349a1dbeb2"
      },
      "outputs": [
        {
          "name": "stdout",
          "output_type": "stream",
          "text": [
            "[0 0 0 ... 0 0 0]\n"
          ]
        }
      ],
      "source": [
        "predictions = svc.predict(x_test)\n",
        "print(predictions)"
      ]
    },
    {
      "cell_type": "code",
      "execution_count": null,
      "metadata": {
        "colab": {
          "base_uri": "https://localhost:8080/"
        },
        "id": "2t-zoPR2DUGK",
        "outputId": "a2de3fa4-f324-4a6a-a227-704ed37056d4"
      },
      "outputs": [
        {
          "name": "stdout",
          "output_type": "stream",
          "text": [
            "[[8523  157]\n",
            " [   0    0]]\n"
          ]
        }
      ],
      "source": [
        "from sklearn.metrics import confusion_matrix\n",
        "mat=confusion_matrix(predictions, y_test)\n",
        "print(mat)"
      ]
    },
    {
      "cell_type": "code",
      "execution_count": null,
      "metadata": {
        "colab": {
          "base_uri": "https://localhost:8080/",
          "height": 283
        },
        "id": "ws654kDUDlKa",
        "outputId": "084dcd0c-8c3e-4d83-fe34-0529c621fb11"
      },
      "outputs": [
        {
          "data": {
            "text/plain": [
              "<matplotlib.axes._subplots.AxesSubplot at 0x7fc7b1ff6970>"
            ]
          },
          "execution_count": 65,
          "metadata": {},
          "output_type": "execute_result"
        },
        {
          "data": {
            "image/png": "[encoded data removed]",
            "text/plain": [
              "<Figure size 432x288 with 2 Axes>"
            ]
          },
          "metadata": {
            "needs_background": "light"
          },
          "output_type": "display_data"
        }
      ],
      "source": [
        "from seaborn import heatmap\n",
        "heatmap(mat , cmap=\"flag\", xticklabels=['target_0' ,'target_1'], yticklabels=['target_0' ,'target_1'], annot=True)"
      ]
    },
    {
      "cell_type": "markdown",
      "metadata": {
        "id": "Zh0xhxguELpy"
      },
      "source": [
        "# Random Forest Classifier"
      ]
    },
    {
      "cell_type": "code",
      "execution_count": null,
      "metadata": {
        "colab": {
          "base_uri": "https://localhost:8080/"
        },
        "id": "Z6fzgGAHDmnd",
        "outputId": "09a1bfa7-fc65-4270-bf0e-bae3cb29ce2e"
      },
      "outputs": [
        {
          "data": {
            "text/plain": [
              "RandomForestClassifier(n_estimators=50)"
            ]
          },
          "execution_count": 66,
          "metadata": {},
          "output_type": "execute_result"
        }
      ],
      "source": [
        "from sklearn.ensemble import RandomForestClassifier\n",
        "rfc = RandomForestClassifier(n_estimators=50)\n",
        "rfc.fit(x_train, y_train)"
      ]
    },
    {
      "cell_type": "code",
      "execution_count": null,
      "metadata": {
        "colab": {
          "base_uri": "https://localhost:8080/"
        },
        "id": "WEfeIa9MDmr9",
        "outputId": "5a0728cc-297a-4e7b-85d4-d9aaf2259e59"
      },
      "outputs": [
        {
          "name": "stdout",
          "output_type": "stream",
          "text": [
            "The Training accuracy of the model is 1.00\n",
            "The Testing accuracy of the model is 0.98\n"
          ]
        }
      ],
      "source": [
        "print(\"The Training accuracy of the model is {:.2f}\".format(rfc.score(x_train, y_train)))\n",
        "print(\"The Testing accuracy of the model is {:.2f}\".format(rfc.score(x_test, y_test)))\n",
        "\n",
        "pre_train_rfc = rfc.score(x_train, y_train)\n",
        "pre_test_rfc = rfc.score(x_test, y_test) "
      ]
    },
    {
      "cell_type": "code",
      "execution_count": null,
      "metadata": {
        "colab": {
          "base_uri": "https://localhost:8080/"
        },
        "id": "OqotEnEODmuk",
        "outputId": "5d8d10ec-7c66-476d-e5c6-316b3d595685"
      },
      "outputs": [
        {
          "name": "stdout",
          "output_type": "stream",
          "text": [
            "[0 0 0 ... 0 0 0]\n"
          ]
        }
      ],
      "source": [
        "predictions = rfc.predict(x_test)\n",
        "print(predictions)"
      ]
    },
    {
      "cell_type": "code",
      "execution_count": null,
      "metadata": {
        "colab": {
          "base_uri": "https://localhost:8080/"
        },
        "id": "5NDrvE7XDmwx",
        "outputId": "e377e11a-a1d6-4c13-ed9f-ef235f12b817"
      },
      "outputs": [
        {
          "name": "stdout",
          "output_type": "stream",
          "text": [
            "[[8520  157]\n",
            " [   3    0]]\n"
          ]
        }
      ],
      "source": [
        "from sklearn.metrics import confusion_matrix\n",
        "mat=confusion_matrix(predictions, y_test)\n",
        "print(mat)"
      ]
    },
    {
      "cell_type": "code",
      "execution_count": null,
      "metadata": {
        "colab": {
          "base_uri": "https://localhost:8080/",
          "height": 283
        },
        "id": "kdzmS5fPDm2D",
        "outputId": "64c82b4a-d4bc-4db8-b2a4-c2479ea135a7"
      },
      "outputs": [
        {
          "data": {
            "text/plain": [
              "<matplotlib.axes._subplots.AxesSubplot at 0x7fc7b14c7cd0>"
            ]
          },
          "execution_count": 70,
          "metadata": {},
          "output_type": "execute_result"
        },
        {
          "data": {
            "image/png": "[encoded data removed]",
            "text/plain": [
              "<Figure size 432x288 with 2 Axes>"
            ]
          },
          "metadata": {
            "needs_background": "light"
          },
          "output_type": "display_data"
        }
      ],
      "source": [
        "from seaborn import heatmap\n",
        "heatmap(mat , cmap=\"flag\", xticklabels=['target_0' ,'target_1'], yticklabels=['target_0' ,'target_1'], annot=True)"
      ]
    },
    {
      "cell_type": "markdown",
      "metadata": {
        "id": "i-wYyMJpEVih"
      },
      "source": [
        "# MLP Classifier"
      ]
    },
    {
      "cell_type": "code",
      "execution_count": null,
      "metadata": {
        "id": "4WivhkyPDm5p"
      },
      "outputs": [],
      "source": [
        "from sklearn.neural_network import MLPClassifier\n",
        "nnc=MLPClassifier(hidden_layer_sizes=(7), activation=\"relu\", max_iter=10000)"
      ]
    },
    {
      "cell_type": "code",
      "execution_count": null,
      "metadata": {
        "colab": {
          "base_uri": "https://localhost:8080/"
        },
        "id": "lt5bErFIDlM9",
        "outputId": "894f8c25-67ef-49b5-e693-f8df572a6524"
      },
      "outputs": [
        {
          "data": {
            "text/plain": [
              "MLPClassifier(hidden_layer_sizes=7, max_iter=10000)"
            ]
          },
          "execution_count": 72,
          "metadata": {},
          "output_type": "execute_result"
        }
      ],
      "source": [
        "nnc.fit(x_train, y_train)"
      ]
    },
    {
      "cell_type": "code",
      "execution_count": null,
      "metadata": {
        "colab": {
          "base_uri": "https://localhost:8080/"
        },
        "id": "MDIag7toDlPZ",
        "outputId": "ef4000dd-dd62-42a3-ef30-24d282a33292"
      },
      "outputs": [
        {
          "name": "stdout",
          "output_type": "stream",
          "text": [
            "The Training accuracy of the model is 0.98\n",
            "The Testing accuracy of the model is 0.98\n"
          ]
        }
      ],
      "source": [
        "print(\"The Training accuracy of the model is {:.2f}\".format(nnc.score(x_train, y_train)))\n",
        "print(\"The Testing accuracy of the model is {:.2f}\".format(nnc.score(x_test, y_test)))\n",
        "\n",
        "pre_train_nnc = nnc.score(x_train, y_train)\n",
        "pre_test_nnc = nnc.score(x_test, y_test)"
      ]
    },
    {
      "cell_type": "code",
      "execution_count": null,
      "metadata": {
        "colab": {
          "base_uri": "https://localhost:8080/"
        },
        "id": "Ymt5oM_JDlSJ",
        "outputId": "ecb2918d-6b40-4a84-e9f9-b0fab8551c32"
      },
      "outputs": [
        {
          "name": "stdout",
          "output_type": "stream",
          "text": [
            "[0 0 0 ... 0 0 0]\n"
          ]
        }
      ],
      "source": [
        "predictions = nnc.predict(x_test)\n",
        "print(predictions)"
      ]
    },
    {
      "cell_type": "code",
      "execution_count": null,
      "metadata": {
        "colab": {
          "base_uri": "https://localhost:8080/"
        },
        "id": "KY9HZeX1Eigm",
        "outputId": "aeac1311-8761-4031-86c1-2e8b0191732b"
      },
      "outputs": [
        {
          "name": "stdout",
          "output_type": "stream",
          "text": [
            "[[8523  157]\n",
            " [   0    0]]\n"
          ]
        }
      ],
      "source": [
        "from sklearn.metrics import confusion_matrix\n",
        "mat=confusion_matrix(predictions, y_test)\n",
        "print(mat)"
      ]
    },
    {
      "cell_type": "code",
      "execution_count": null,
      "metadata": {
        "colab": {
          "base_uri": "https://localhost:8080/",
          "height": 284
        },
        "id": "bY_HPV4OEilQ",
        "outputId": "c4262a11-5818-4c6f-f419-027b83d9e7c3"
      },
      "outputs": [
        {
          "data": {
            "text/plain": [
              "<matplotlib.axes._subplots.AxesSubplot at 0x7fc7b13c1160>"
            ]
          },
          "execution_count": 76,
          "metadata": {},
          "output_type": "execute_result"
        },
        {
          "data": {
            "image/png": "[encoded data removed]",
            "text/plain": [
              "<Figure size 432x288 with 2 Axes>"
            ]
          },
          "metadata": {
            "needs_background": "light"
          },
          "output_type": "display_data"
        }
      ],
      "source": [
        "from seaborn import heatmap\n",
        "heatmap(mat , cmap=\"flag\", xticklabels=['class_0' ,'class_1' ,'class_2'], yticklabels=['class_0' ,'class_1', 'class_2'], annot=True)"
      ]
    },
    {
      "cell_type": "markdown",
      "metadata": {
        "id": "MnUGz-OnEmqV"
      },
      "source": [
        "# Comparing KNN, Logistic Regression, SVM and Decision Tree"
      ]
    },
    {
      "cell_type": "code",
      "execution_count": null,
      "metadata": {
        "id": "9yhrVVpBEiou"
      },
      "outputs": [],
      "source": [
        "KNN_accuracy = 0.98 #from above"
      ]
    },
    {
      "cell_type": "code",
      "execution_count": null,
      "metadata": {
        "colab": {
          "base_uri": "https://localhost:8080/",
          "height": 279
        },
        "id": "ueqfVhfAEirP",
        "outputId": "c292696c-8b39-4caf-a615-c7d0f0496cf3"
      },
      "outputs": [
        {
          "data": {
            "image/png": "[encoded data removed]",
            "text/plain": [
              "<Figure size 432x288 with 1 Axes>"
            ]
          },
          "metadata": {
            "needs_background": "light"
          },
          "output_type": "display_data"
        }
      ],
      "source": [
        "x = [\"SVM\", \"KNN\", \"Decision Tree\", \"Logistic Regression\"]\n",
        "y = [pre_test_svc, KNN_accuracy, DT_accuracy, LR_accuracy]\n",
        "\n",
        "plt.bar(x,y, width = 0.3)\n",
        "plt.xlabel(\"Machine learning classifiers\")\n",
        "plt.ylabel(\"Testing Accuracy\")\n",
        "plt.show()"
      ]
    },
    {
      "cell_type": "markdown",
      "metadata": {
        "id": "Q0K1xkNyErs3"
      },
      "source": [
        "# Error Rate Compare"
      ]
    },
    {
      "cell_type": "code",
      "execution_count": null,
      "metadata": {
        "colab": {
          "base_uri": "https://localhost:8080/",
          "height": 279
        },
        "id": "XXkeHOqNEitg",
        "outputId": "055bce83-093f-484c-b38e-432a53624eb0"
      },
      "outputs": [
        {
          "data": {
            "image/png": "[encoded data removed]",
            "text/plain": [
              "<Figure size 432x288 with 1 Axes>"
            ]
          },
          "metadata": {
            "needs_background": "light"
          },
          "output_type": "display_data"
        }
      ],
      "source": [
        "SVM_error = 1 - pre_test_svc\n",
        "KNN_error = 1 - KNN_accuracy\n",
        "DT_error = 1 - DT_accuracy\n",
        "LR_error = 1 - LR_accuracy\n",
        "\n",
        "x = [\"SVM\", \"KNN\", \"Decision Tree\", \"Logistic Regression\"]\n",
        "y = [SVM_error, KNN_error, DT_error, LR_error]\n",
        "\n",
        "plt.bar(x,y, width = 0.3)\n",
        "plt.xlabel(\"Machine learning classifiers\")\n",
        "plt.ylabel(\"Error Rate\")\n",
        "plt.show()"
      ]
    }
  ],
  "metadata": {
    "colab": {
      "provenance": []
    },
    "kernelspec": {
      "display_name": "Python 3",
      "language": "python",
      "name": "python3"
    },
    "language_info": {
      "codemirror_mode": {
        "name": "ipython",
        "version": 3
      },
      "file_extension": ".py",
      "mimetype": "text/x-python",
      "name": "python",
      "nbconvert_exporter": "python",
      "pygments_lexer": "ipython3",
      "version": "3.11.5"
    },
    "vscode": {
      "interpreter": {
        "hash": "6eebf30b83aa251e8bcc798547b2d0780af057307083978d1672e5563bade130"
      }
    }
  },
  "nbformat": 4,
  "nbformat_minor": 0
}
